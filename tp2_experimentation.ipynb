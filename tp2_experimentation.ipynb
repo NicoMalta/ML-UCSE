{
 "cells": [
  {
   "cell_type": "markdown",
   "metadata": {},
   "source": [
    "<h1 align=\"center\">Introducción</h1>\n",
    "\n",
    "Como objetivo en el desarrollo del trabajo practico, lo que buscamos es probar el DataSet con las ingenierias de features que se le habian hecho en el tp1_exploration. En el cual se aplicó, one hot-encoder a las columnas de Sexo, Thalassemia, Chest_Pain_type bajo criterios de discusiones que encontramos de otros usuarios con mas conocimiento en la materia, dentro de las discusiones de kaggle. \n",
    "Los modelos en los cuales nos queremos enfocar, son:\n",
    "\n",
    "<ul>\n",
    "    <li>Arboles de decisión</li>\n",
    "    <li>Regresion Logistica</li>\n",
    "    <li>Redes Neuronales</li>\n",
    "    <li>Ensemble: Random Forest</li>\n",
    "</ul>\n",
    "    \n",
    "Como metricas para el trabajo definimos una principal que es la accuracy, pero tambien nos parece interesante los resultados que arrojaria una metrica como recall en este tipo de estudio, por eso decidimos incluirla:\n",
    "\n",
    "<ul>\n",
    "    <li><strong>Accuracy</strong> --> Para saber en que porcentaje acertamos las predicciones de que una persona va a tener enfermedad del corazon o no </li>\n",
    "    <br>\n",
    "    <li><strong>Recall</strong> --> Ver cuales de esos casos que acertamos, realmente estaban enfermos del corazon sobre la cantidad de enfermos total que habia. La idea de esta eleccion, es porque creemos que es mejor decirle a un paciente sano, que esta enfermo y tome precaucion antes que, este enfermo y se le haya dicho que no lo esta.\n",
    "</ul>\n",
    "\n"
   ]
  },
  {
   "cell_type": "code",
   "execution_count": 1,
   "metadata": {},
   "outputs": [
    {
     "name": "stderr",
     "output_type": "stream",
     "text": [
      "Using TensorFlow backend.\n"
     ]
    }
   ],
   "source": [
    "import pandas as pd\n",
    "import numpy as np\n",
    "%matplotlib inline\n",
    "import matplotlib.pyplot as plt\n",
    "from matplotlib.colors import ListedColormap\n",
    "import seaborn as sns\n",
    "from sklearn.model_selection import train_test_split\n",
    "\n",
    "#Metricas\n",
    "from sklearn.metrics import confusion_matrix\n",
    "from sklearn.metrics import accuracy_score\n",
    "from sklearn.metrics import recall_score\n",
    "\n",
    "#Modelos\n",
    "from sklearn.ensemble import RandomForestClassifier\n",
    "from sklearn.linear_model import LogisticRegression\n",
    "from sklearn.neighbors import KNeighborsClassifier\n",
    "from sklearn.tree import DecisionTreeClassifier\n",
    "\n",
    "\n",
    "#Redes Neuronales\n",
    "from keras.models import Sequential\n",
    "from keras.layers import Dense,BatchNormalization\n",
    "from IPython.display import Image\n"
   ]
  },
  {
   "cell_type": "code",
   "execution_count": 2,
   "metadata": {},
   "outputs": [],
   "source": [
    "#Full va a representar al dataset con ingenieria de features aplicadas en el tp1_exploration.ipynb\n",
    "full = pd.read_csv(\"./heart_features.csv\", index_col=0)\n",
    "\n",
    "\n",
    "#Realizamos division en Train y Test del dataset y a su vez el split en x e y de los mismos.\n",
    "x = full.drop(['target'], axis = 1)\n",
    "y = full.target.values\n",
    "x_train, x_test, y_train, y_test = train_test_split(x, y, test_size = 0.2, random_state=5)"
   ]
  },
  {
   "cell_type": "markdown",
   "metadata": {},
   "source": [
    "<h1 align=\"center\">Representacion de Modelos:<h1>"
   ]
  },
  {
   "cell_type": "markdown",
   "metadata": {},
   "source": [
    "<h1>Regresión Logistica</h1>"
   ]
  },
  {
   "cell_type": "code",
   "execution_count": 3,
   "metadata": {},
   "outputs": [
    {
     "name": "stderr",
     "output_type": "stream",
     "text": [
      "/home/malta/.venv/lib/python3.6/site-packages/sklearn/linear_model/logistic.py:433: FutureWarning: Default solver will be changed to 'lbfgs' in 0.22. Specify a solver to silence this warning.\n",
      "  FutureWarning)\n"
     ]
    }
   ],
   "source": [
    "classifier_LR = LogisticRegression(random_state=4)\n",
    "classifier_LR.fit(x_train,y_train)\n",
    "\n",
    "#Prediccion en Train\n",
    "pred_LR = classifier_LR.predict(x_train)\n",
    "accuracyTrain_LR = accuracy_score(y_train, pred_LR)\n",
    "\n",
    "#Prediccion en Test\n",
    "pred_LR = classifier_LR.predict(x_test)\n",
    "confusionMatrix_LR = confusion_matrix(y_test, pred_LR)\n",
    "accuracyTest_LR = accuracy_score(y_test, pred_LR)\n"
   ]
  },
  {
   "cell_type": "code",
   "execution_count": 41,
   "metadata": {},
   "outputs": [
    {
     "name": "stdout",
     "output_type": "stream",
     "text": [
      "\u001b[1m\u001b[4mAccuracy\u001b[0m\n",
      "Train:  0.8898305084745762\n",
      "Test:  0.8166666666666667\n"
     ]
    },
    {
     "data": {
      "text/plain": [
       "<matplotlib.axes._subplots.AxesSubplot at 0x7f3bcc16abe0>"
      ]
     },
     "execution_count": 41,
     "metadata": {},
     "output_type": "execute_result"
    },
    {
     "data": {
      "image/png": "[encoded data removed]",
      "text/plain": [
       "<Figure size 432x288 with 1 Axes>"
      ]
     },
     "metadata": {
      "needs_background": "light"
     },
     "output_type": "display_data"
    }
   ],
   "source": [
    "print('\\033[1m''\\033[4m' + 'Accuracy' + '\\033[0m')\n",
    "print('Train: ',accuracyTrain_LR)\n",
    "print('Test: ',accuracyTest_LR)\n",
    "\n",
    "#plt.subplot(2,3,1) tamaño\n",
    "plt.title(\"Matriz de confusion regresion logistica\")\n",
    "sns.heatmap(confusionMatrix_LR ,annot=True,cmap=\"Blues\",fmt=\"d\",cbar=False)"
   ]
  },
  {
   "cell_type": "markdown",
   "metadata": {},
   "source": [
    "<h1> Random Forest </h1>"
   ]
  },
  {
   "cell_type": "code",
   "execution_count": 42,
   "metadata": {},
   "outputs": [
    {
     "name": "stdout",
     "output_type": "stream",
     "text": [
      "\u001b[1m\u001b[4mAccuracy\u001b[0m\n",
      "Train:  0.9703389830508474\n",
      "Test:  0.85\n"
     ]
    },
    {
     "data": {
      "text/plain": [
       "<matplotlib.axes._subplots.AxesSubplot at 0x7f3bcbf13470>"
      ]
     },
     "execution_count": 42,
     "metadata": {},
     "output_type": "execute_result"
    },
    {
     "data": {
      "image/png": "[encoded data removed]",
      "text/plain": [
       "<Figure size 432x288 with 1 Axes>"
      ]
     },
     "metadata": {
      "needs_background": "light"
     },
     "output_type": "display_data"
    }
   ],
   "source": [
    "classifier_RDF = RandomForestClassifier(n_estimators=7,criterion='entropy',random_state=4)\n",
    "classifier_RDF.fit(x_train,y_train)\n",
    "\n",
    "#Predicción en Train\n",
    "pred_RDF = classifier_RDF.predict(x_train)\n",
    "accuracyTrain_RDF=accuracy_score(pred_RDF,y_train)\n",
    "\n",
    "#Predicción en Test\n",
    "pred_RDF = classifier_RDF.predict(x_test)\n",
    "confusionMatrix_RDF = confusion_matrix(y_test,pred_RDF)\n",
    "accuracyTest_RDF = accuracy_score(pred_RDF,y_test)\n",
    "\n",
    "print('\\033[1m''\\033[4m' + 'Accuracy' + '\\033[0m')\n",
    "print('Train: ',accuracyTrain_RDF)\n",
    "print('Test: ',accuracyTest_RDF)\n",
    "plt.title(\"Matriz de confusion random forest\")\n",
    "sns.heatmap(confusionMatrix_RDF ,annot=True,cmap=\"Blues\",fmt=\"d\",cbar=False)"
   ]
  },
  {
   "cell_type": "markdown",
   "metadata": {},
   "source": [
    "<h1>DecisionTree Classifier</h1>"
   ]
  },
  {
   "cell_type": "code",
   "execution_count": 43,
   "metadata": {},
   "outputs": [
    {
     "name": "stdout",
     "output_type": "stream",
     "text": [
      "\u001b[1m\u001b[4mAccuracy\u001b[0m\n",
      "Train:  0.940677966101695\n",
      "Test:  0.7333333333333333\n"
     ]
    },
    {
     "data": {
      "text/plain": [
       "<matplotlib.axes._subplots.AxesSubplot at 0x7f3bcc304e48>"
      ]
     },
     "execution_count": 43,
     "metadata": {},
     "output_type": "execute_result"
    },
    {
     "data": {
      "image/png": "[encoded data removed]",
      "text/plain": [
       "<Figure size 432x288 with 1 Axes>"
      ]
     },
     "metadata": {
      "needs_background": "light"
     },
     "output_type": "display_data"
    }
   ],
   "source": [
    "classifier_DTREE = DecisionTreeClassifier(criterion='entropy',random_state=0, max_depth=7,max_features='auto')\n",
    "classifier_DTREE.fit(x_train,y_train)\n",
    "\n",
    "#Predicción en Train\n",
    "pred_DTREE = classifier_DTREE.predict(x_train)\n",
    "accuracyTrain_DTREE = accuracy_score(pred_DTREE,y_train)\n",
    "\n",
    "#Predicción en Test\n",
    "pred_DTREE = classifier_DTREE.predict(x_test)\n",
    "accuracyTest_DTREE = accuracy_score(pred_DTREE,y_test)\n",
    "confusionMatrix_DTREE = confusion_matrix(y_test,pred_DTREE)\n",
    "\n",
    "print('\\033[1m''\\033[4m' + 'Accuracy' + '\\033[0m')\n",
    "print('Train: ',accuracyTrain_DTREE)\n",
    "print('Test: ',accuracyTest_DTREE)\n",
    "\n",
    "plt.title(\"Matriz de confusion Arboles decisión\")\n",
    "sns.heatmap(confusionMatrix_RDF ,annot=True,cmap=\"Blues\",fmt=\"d\",cbar=False)"
   ]
  },
  {
   "cell_type": "markdown",
   "metadata": {},
   "source": [
    "<h1> KNN </h1>"
   ]
  },
  {
   "cell_type": "code",
   "execution_count": 44,
   "metadata": {},
   "outputs": [
    {
     "name": "stdout",
     "output_type": "stream",
     "text": [
      "\u001b[1m\u001b[4mAccuracy\u001b[0m\n",
      "Train:  1.0\n",
      "Test:  0.7\n"
     ]
    },
    {
     "data": {
      "image/png": "[encoded data removed]",
      "text/plain": [
       "<Figure size 432x288 with 1 Axes>"
      ]
     },
     "metadata": {
      "needs_background": "light"
     },
     "output_type": "display_data"
    },
    {
     "data": {
      "text/plain": [
       "<matplotlib.axes._subplots.AxesSubplot at 0x7f3bcbff4128>"
      ]
     },
     "execution_count": 44,
     "metadata": {},
     "output_type": "execute_result"
    },
    {
     "data": {
      "image/png": "[encoded data removed]",
      "text/plain": [
       "<Figure size 432x288 with 1 Axes>"
      ]
     },
     "metadata": {
      "needs_background": "light"
     },
     "output_type": "display_data"
    }
   ],
   "source": [
    "classifier_KNN = KNeighborsClassifier(n_neighbors=6, weights='distance')\n",
    "classifier_KNN.fit(x_train,y_train)\n",
    "\n",
    "#Predicción en Train\n",
    "pred_KNN = classifier_KNN.predict(x_train)\n",
    "accuracyTrain_KNN = accuracy_score(pred_KNN,y_train)\n",
    "\n",
    "#Predicción en Test\n",
    "pred_KNN = classifier_KNN.predict(x_test)\n",
    "accuracyTest_KNN = accuracy_score(pred_KNN,y_test)\n",
    "confusionMatrix_KNN = confusion_matrix(y_test,pred_KNN)\n",
    "\n",
    "print('\\033[1m''\\033[4m' + 'Accuracy' + '\\033[0m')\n",
    "print('Train: ',accuracyTrain_KNN)\n",
    "print('Test: ',accuracyTest_KNN)\n",
    "\n",
    "\n",
    "# Create color maps\n",
    "cmap_light = ListedColormap(['#FFAAAA', '#AAFFAA','#00AAFF'])\n",
    "cmap_bold = ListedColormap(['#FF0000', '#00FF00','#00AAFF'])\n",
    "\n",
    "h = 10  # step size in the mesh\n",
    "\n",
    "# calculate min, max and limits\n",
    "\n",
    "x_min, x_max = x.iloc[:, 0].min() , x.iloc[:, 0].max() \n",
    "y_min, y_max = x.iloc[:, 1].min()  , x.iloc[:, 1].max() +1 \n",
    "xx, yy = np.meshgrid(np.arange(x_min, x_max, h),\n",
    "np.arange(y_min, y_max, h))\n",
    "\n",
    "\n",
    "# predict class using data and kNN classifier\n",
    "Z = classifier_KNN.predict(x_test)\n",
    "\n",
    "# Put the result into a color plot\n",
    "\n",
    "Z = Z.reshape(x_test.shape[0])\n",
    "plt.figure()\n",
    "\n",
    "plt.pcolormesh(x_test, cmap=cmap_light)\n",
    "\n",
    "# Plot also the training points\n",
    "plt.scatter(x.iloc[:, 0], x.iloc[:, 1], c=y, cmap=cmap_bold)\n",
    "plt.xlim(xx.min(), xx.max())\n",
    "plt.ylim(yy.min(), yy.max())\n",
    "plt.title(\"3-Class classification (k = %i)\" % (8))\n",
    "plt.show()\n",
    "\n",
    "plt.title(\"Matriz de confusion Knn Neighbors\")\n",
    "sns.heatmap(confusionMatrix_RDF ,annot=True,cmap=\"Blues\",fmt=\"d\",cbar=False)"
   ]
  },
  {
   "cell_type": "code",
   "execution_count": 52,
   "metadata": {},
   "outputs": [],
   "source": [
    "model = Sequential()\n",
    "model.add(Dense(50, input_dim=19, activation='selu'))\n",
    "model.add(Dense(50, activation='selu'))\n",
    "model.add(Dense(50, activation='selu'))\n",
    "model.add(Dense(1, activation='sigmoid'))"
   ]
  },
  {
   "cell_type": "code",
   "execution_count": 53,
   "metadata": {},
   "outputs": [],
   "source": [
    "model.compile(loss='binary_crossentropy', optimizer='adam', metrics=['accuracy'])"
   ]
  },
  {
   "cell_type": "code",
   "execution_count": 63,
   "metadata": {},
   "outputs": [
    {
     "name": "stdout",
     "output_type": "stream",
     "text": [
      "Train on 165 samples, validate on 71 samples\n",
      "Epoch 1/100\n",
      "165/165 [==============================] - 0s 34us/step - loss: 0.4504 - acc: 0.8242 - val_loss: 0.5944 - val_acc: 0.7746\n",
      "Epoch 2/100\n",
      "165/165 [==============================] - 0s 39us/step - loss: 0.3455 - acc: 0.8606 - val_loss: 0.6251 - val_acc: 0.8169\n",
      "Epoch 3/100\n",
      "165/165 [==============================] - 0s 35us/step - loss: 0.3901 - acc: 0.8424 - val_loss: 0.5817 - val_acc: 0.8028\n",
      "Epoch 4/100\n",
      "165/165 [==============================] - 0s 38us/step - loss: 0.2504 - acc: 0.8727 - val_loss: 0.7255 - val_acc: 0.7746\n",
      "Epoch 5/100\n",
      "165/165 [==============================] - 0s 50us/step - loss: 0.2999 - acc: 0.8667 - val_loss: 0.4873 - val_acc: 0.8310\n",
      "Epoch 6/100\n",
      "165/165 [==============================] - 0s 33us/step - loss: 0.2547 - acc: 0.8970 - val_loss: 0.4936 - val_acc: 0.8169\n",
      "Epoch 7/100\n",
      "165/165 [==============================] - 0s 45us/step - loss: 0.2767 - acc: 0.8848 - val_loss: 0.5443 - val_acc: 0.7887\n",
      "Epoch 8/100\n",
      "165/165 [==============================] - 0s 38us/step - loss: 0.2324 - acc: 0.8848 - val_loss: 0.6425 - val_acc: 0.7606\n",
      "Epoch 9/100\n",
      "165/165 [==============================] - 0s 38us/step - loss: 0.2426 - acc: 0.8970 - val_loss: 0.5415 - val_acc: 0.8028\n",
      "Epoch 10/100\n",
      "165/165 [==============================] - 0s 45us/step - loss: 0.2059 - acc: 0.8970 - val_loss: 0.6020 - val_acc: 0.8169\n",
      "Epoch 11/100\n",
      "165/165 [==============================] - 0s 50us/step - loss: 0.2589 - acc: 0.8788 - val_loss: 0.5695 - val_acc: 0.8028\n",
      "Epoch 12/100\n",
      "165/165 [==============================] - 0s 49us/step - loss: 0.1893 - acc: 0.9333 - val_loss: 0.6581 - val_acc: 0.7324\n",
      "Epoch 13/100\n",
      "165/165 [==============================] - 0s 52us/step - loss: 0.2126 - acc: 0.9030 - val_loss: 0.5713 - val_acc: 0.7746\n",
      "Epoch 14/100\n",
      "165/165 [==============================] - 0s 36us/step - loss: 0.1791 - acc: 0.9333 - val_loss: 0.5652 - val_acc: 0.8310\n",
      "Epoch 15/100\n",
      "165/165 [==============================] - 0s 36us/step - loss: 0.1857 - acc: 0.9091 - val_loss: 0.5645 - val_acc: 0.8028\n",
      "Epoch 16/100\n",
      "165/165 [==============================] - 0s 46us/step - loss: 0.1660 - acc: 0.9273 - val_loss: 0.5977 - val_acc: 0.7887\n",
      "Epoch 17/100\n",
      "165/165 [==============================] - 0s 47us/step - loss: 0.1776 - acc: 0.9273 - val_loss: 0.6076 - val_acc: 0.8028\n",
      "Epoch 18/100\n",
      "165/165 [==============================] - 0s 44us/step - loss: 0.1668 - acc: 0.9394 - val_loss: 0.5741 - val_acc: 0.8310\n",
      "Epoch 19/100\n",
      "165/165 [==============================] - 0s 35us/step - loss: 0.1941 - acc: 0.9030 - val_loss: 0.5398 - val_acc: 0.8310\n",
      "Epoch 20/100\n",
      "165/165 [==============================] - 0s 45us/step - loss: 0.1702 - acc: 0.9212 - val_loss: 0.5502 - val_acc: 0.7887\n",
      "Epoch 21/100\n",
      "165/165 [==============================] - 0s 34us/step - loss: 0.1669 - acc: 0.9455 - val_loss: 0.5254 - val_acc: 0.8028\n",
      "Epoch 22/100\n",
      "165/165 [==============================] - 0s 50us/step - loss: 0.1613 - acc: 0.9273 - val_loss: 0.5233 - val_acc: 0.7887\n",
      "Epoch 23/100\n",
      "165/165 [==============================] - 0s 40us/step - loss: 0.1647 - acc: 0.9212 - val_loss: 0.5476 - val_acc: 0.7887\n",
      "Epoch 24/100\n",
      "165/165 [==============================] - 0s 46us/step - loss: 0.1581 - acc: 0.9455 - val_loss: 0.5941 - val_acc: 0.7746\n",
      "Epoch 25/100\n",
      "165/165 [==============================] - 0s 44us/step - loss: 0.1671 - acc: 0.9455 - val_loss: 0.5621 - val_acc: 0.8028\n",
      "Epoch 26/100\n",
      "165/165 [==============================] - 0s 47us/step - loss: 0.1604 - acc: 0.9394 - val_loss: 0.5568 - val_acc: 0.7887\n",
      "Epoch 27/100\n",
      "165/165 [==============================] - 0s 47us/step - loss: 0.1524 - acc: 0.9394 - val_loss: 0.5908 - val_acc: 0.7746\n",
      "Epoch 28/100\n",
      "165/165 [==============================] - 0s 35us/step - loss: 0.1643 - acc: 0.9455 - val_loss: 0.5565 - val_acc: 0.7746\n",
      "Epoch 29/100\n",
      "165/165 [==============================] - 0s 36us/step - loss: 0.1549 - acc: 0.9394 - val_loss: 0.5424 - val_acc: 0.8310\n",
      "Epoch 30/100\n",
      "165/165 [==============================] - 0s 34us/step - loss: 0.1612 - acc: 0.9212 - val_loss: 0.5579 - val_acc: 0.7606\n",
      "Epoch 31/100\n",
      "165/165 [==============================] - 0s 28us/step - loss: 0.1619 - acc: 0.9455 - val_loss: 0.5822 - val_acc: 0.7746\n",
      "Epoch 32/100\n",
      "165/165 [==============================] - 0s 31us/step - loss: 0.1558 - acc: 0.9455 - val_loss: 0.5399 - val_acc: 0.8028\n",
      "Epoch 33/100\n",
      "165/165 [==============================] - 0s 63us/step - loss: 0.1613 - acc: 0.9152 - val_loss: 0.5344 - val_acc: 0.8310\n",
      "Epoch 34/100\n",
      "165/165 [==============================] - 0s 33us/step - loss: 0.1651 - acc: 0.9212 - val_loss: 0.5412 - val_acc: 0.7465\n",
      "Epoch 35/100\n",
      "165/165 [==============================] - 0s 51us/step - loss: 0.1534 - acc: 0.9333 - val_loss: 0.5785 - val_acc: 0.7606\n",
      "Epoch 36/100\n",
      "165/165 [==============================] - 0s 48us/step - loss: 0.1600 - acc: 0.9455 - val_loss: 0.5543 - val_acc: 0.7606\n",
      "Epoch 37/100\n",
      "165/165 [==============================] - 0s 41us/step - loss: 0.1483 - acc: 0.9273 - val_loss: 0.5632 - val_acc: 0.8169\n",
      "Epoch 38/100\n",
      "165/165 [==============================] - 0s 38us/step - loss: 0.1601 - acc: 0.9152 - val_loss: 0.5766 - val_acc: 0.8028\n",
      "Epoch 39/100\n",
      "165/165 [==============================] - 0s 32us/step - loss: 0.1510 - acc: 0.9455 - val_loss: 0.6065 - val_acc: 0.7606\n",
      "Epoch 40/100\n",
      "165/165 [==============================] - 0s 39us/step - loss: 0.1533 - acc: 0.9455 - val_loss: 0.5808 - val_acc: 0.7887\n",
      "Epoch 41/100\n",
      "165/165 [==============================] - 0s 60us/step - loss: 0.1485 - acc: 0.9455 - val_loss: 0.5622 - val_acc: 0.7887\n",
      "Epoch 42/100\n",
      "165/165 [==============================] - 0s 59us/step - loss: 0.1490 - acc: 0.9394 - val_loss: 0.5585 - val_acc: 0.7746\n",
      "Epoch 43/100\n",
      "165/165 [==============================] - 0s 36us/step - loss: 0.1454 - acc: 0.9394 - val_loss: 0.5490 - val_acc: 0.7887\n",
      "Epoch 44/100\n",
      "165/165 [==============================] - 0s 29us/step - loss: 0.1457 - acc: 0.9273 - val_loss: 0.5550 - val_acc: 0.7746\n",
      "Epoch 45/100\n",
      "165/165 [==============================] - 0s 50us/step - loss: 0.1436 - acc: 0.9455 - val_loss: 0.5788 - val_acc: 0.7606\n",
      "Epoch 46/100\n",
      "165/165 [==============================] - 0s 46us/step - loss: 0.1492 - acc: 0.9515 - val_loss: 0.5643 - val_acc: 0.7887\n",
      "Epoch 47/100\n",
      "165/165 [==============================] - 0s 44us/step - loss: 0.1451 - acc: 0.9394 - val_loss: 0.5508 - val_acc: 0.7887\n",
      "Epoch 48/100\n",
      "165/165 [==============================] - 0s 60us/step - loss: 0.1432 - acc: 0.9273 - val_loss: 0.5712 - val_acc: 0.7746\n",
      "Epoch 49/100\n",
      "165/165 [==============================] - 0s 54us/step - loss: 0.1467 - acc: 0.9515 - val_loss: 0.5832 - val_acc: 0.7606\n",
      "Epoch 50/100\n",
      "165/165 [==============================] - 0s 50us/step - loss: 0.1472 - acc: 0.9455 - val_loss: 0.5584 - val_acc: 0.7887\n",
      "Epoch 51/100\n",
      "165/165 [==============================] - 0s 35us/step - loss: 0.1452 - acc: 0.9273 - val_loss: 0.5726 - val_acc: 0.7746\n",
      "Epoch 52/100\n",
      "165/165 [==============================] - 0s 51us/step - loss: 0.1419 - acc: 0.9455 - val_loss: 0.6095 - val_acc: 0.7606\n",
      "Epoch 53/100\n",
      "165/165 [==============================] - 0s 54us/step - loss: 0.1501 - acc: 0.9576 - val_loss: 0.5839 - val_acc: 0.7887\n",
      "Epoch 54/100\n",
      "165/165 [==============================] - 0s 36us/step - loss: 0.1455 - acc: 0.9394 - val_loss: 0.5829 - val_acc: 0.7887\n",
      "Epoch 55/100\n",
      "165/165 [==============================] - 0s 28us/step - loss: 0.1428 - acc: 0.9455 - val_loss: 0.5891 - val_acc: 0.7746\n",
      "Epoch 56/100\n",
      "165/165 [==============================] - 0s 26us/step - loss: 0.1453 - acc: 0.9515 - val_loss: 0.5636 - val_acc: 0.7746\n",
      "Epoch 57/100\n",
      "165/165 [==============================] - 0s 70us/step - loss: 0.1404 - acc: 0.9394 - val_loss: 0.5554 - val_acc: 0.7746\n",
      "Epoch 58/100\n",
      "165/165 [==============================] - 0s 29us/step - loss: 0.1386 - acc: 0.9333 - val_loss: 0.5512 - val_acc: 0.8169\n",
      "Epoch 59/100\n",
      "165/165 [==============================] - 0s 64us/step - loss: 0.1437 - acc: 0.9212 - val_loss: 0.5667 - val_acc: 0.7606\n",
      "Epoch 60/100\n",
      "165/165 [==============================] - 0s 36us/step - loss: 0.1400 - acc: 0.9394 - val_loss: 0.5905 - val_acc: 0.7606\n",
      "Epoch 61/100\n"
     ]
    },
    {
     "name": "stdout",
     "output_type": "stream",
     "text": [
      "165/165 [==============================] - 0s 49us/step - loss: 0.1386 - acc: 0.9455 - val_loss: 0.5719 - val_acc: 0.7887\n",
      "Epoch 62/100\n",
      "165/165 [==============================] - 0s 61us/step - loss: 0.1408 - acc: 0.9273 - val_loss: 0.5728 - val_acc: 0.8028\n",
      "Epoch 63/100\n",
      "165/165 [==============================] - 0s 59us/step - loss: 0.1418 - acc: 0.9333 - val_loss: 0.5931 - val_acc: 0.7606\n",
      "Epoch 64/100\n",
      "165/165 [==============================] - 0s 47us/step - loss: 0.1387 - acc: 0.9394 - val_loss: 0.5821 - val_acc: 0.7746\n",
      "Epoch 65/100\n",
      "165/165 [==============================] - 0s 47us/step - loss: 0.1350 - acc: 0.9394 - val_loss: 0.5724 - val_acc: 0.8028\n",
      "Epoch 66/100\n",
      "165/165 [==============================] - 0s 42us/step - loss: 0.1411 - acc: 0.9212 - val_loss: 0.5782 - val_acc: 0.7746\n",
      "Epoch 67/100\n",
      "165/165 [==============================] - 0s 38us/step - loss: 0.1395 - acc: 0.9394 - val_loss: 0.6107 - val_acc: 0.7606\n",
      "Epoch 68/100\n",
      "165/165 [==============================] - 0s 42us/step - loss: 0.1398 - acc: 0.9515 - val_loss: 0.5904 - val_acc: 0.7606\n",
      "Epoch 69/100\n",
      "165/165 [==============================] - 0s 31us/step - loss: 0.1342 - acc: 0.9455 - val_loss: 0.5927 - val_acc: 0.7606\n",
      "Epoch 70/100\n",
      "165/165 [==============================] - 0s 43us/step - loss: 0.1331 - acc: 0.9455 - val_loss: 0.6059 - val_acc: 0.7746\n",
      "Epoch 71/100\n",
      "165/165 [==============================] - 0s 33us/step - loss: 0.1354 - acc: 0.9515 - val_loss: 0.6007 - val_acc: 0.7606\n",
      "Epoch 72/100\n",
      "165/165 [==============================] - 0s 41us/step - loss: 0.1369 - acc: 0.9333 - val_loss: 0.5970 - val_acc: 0.7746\n",
      "Epoch 73/100\n",
      "165/165 [==============================] - 0s 45us/step - loss: 0.1360 - acc: 0.9273 - val_loss: 0.6235 - val_acc: 0.7465\n",
      "Epoch 74/100\n",
      "165/165 [==============================] - 0s 38us/step - loss: 0.1354 - acc: 0.9576 - val_loss: 0.6143 - val_acc: 0.7465\n",
      "Epoch 75/100\n",
      "165/165 [==============================] - 0s 36us/step - loss: 0.1312 - acc: 0.9515 - val_loss: 0.5924 - val_acc: 0.7746\n",
      "Epoch 76/100\n",
      "165/165 [==============================] - 0s 32us/step - loss: 0.1339 - acc: 0.9333 - val_loss: 0.6010 - val_acc: 0.7606\n",
      "Epoch 77/100\n",
      "165/165 [==============================] - 0s 44us/step - loss: 0.1344 - acc: 0.9394 - val_loss: 0.6215 - val_acc: 0.7606\n",
      "Epoch 78/100\n",
      "165/165 [==============================] - 0s 28us/step - loss: 0.1349 - acc: 0.9576 - val_loss: 0.6094 - val_acc: 0.7606\n",
      "Epoch 79/100\n",
      "165/165 [==============================] - 0s 58us/step - loss: 0.1296 - acc: 0.9394 - val_loss: 0.6302 - val_acc: 0.7606\n",
      "Epoch 80/100\n",
      "165/165 [==============================] - 0s 45us/step - loss: 0.1336 - acc: 0.9576 - val_loss: 0.6249 - val_acc: 0.7606\n",
      "Epoch 81/100\n",
      "165/165 [==============================] - 0s 60us/step - loss: 0.1316 - acc: 0.9515 - val_loss: 0.6037 - val_acc: 0.7746\n",
      "Epoch 82/100\n",
      "165/165 [==============================] - 0s 33us/step - loss: 0.1326 - acc: 0.9394 - val_loss: 0.6197 - val_acc: 0.7606\n",
      "Epoch 83/100\n",
      "165/165 [==============================] - 0s 52us/step - loss: 0.1279 - acc: 0.9455 - val_loss: 0.6347 - val_acc: 0.7606\n",
      "Epoch 84/100\n",
      "165/165 [==============================] - 0s 28us/step - loss: 0.1303 - acc: 0.9576 - val_loss: 0.6114 - val_acc: 0.7606\n",
      "Epoch 85/100\n",
      "165/165 [==============================] - 0s 65us/step - loss: 0.1340 - acc: 0.9273 - val_loss: 0.6094 - val_acc: 0.7746\n",
      "Epoch 86/100\n",
      "165/165 [==============================] - 0s 27us/step - loss: 0.1290 - acc: 0.9394 - val_loss: 0.6301 - val_acc: 0.7465\n",
      "Epoch 87/100\n",
      "165/165 [==============================] - 0s 49us/step - loss: 0.1348 - acc: 0.9515 - val_loss: 0.6119 - val_acc: 0.7465\n",
      "Epoch 88/100\n",
      "165/165 [==============================] - 0s 32us/step - loss: 0.1278 - acc: 0.9515 - val_loss: 0.6170 - val_acc: 0.7606\n",
      "Epoch 89/100\n",
      "165/165 [==============================] - 0s 28us/step - loss: 0.1302 - acc: 0.9333 - val_loss: 0.6245 - val_acc: 0.7606\n",
      "Epoch 90/100\n",
      "165/165 [==============================] - 0s 40us/step - loss: 0.1299 - acc: 0.9394 - val_loss: 0.6337 - val_acc: 0.7465\n",
      "Epoch 91/100\n",
      "165/165 [==============================] - 0s 40us/step - loss: 0.1281 - acc: 0.9515 - val_loss: 0.6152 - val_acc: 0.7465\n",
      "Epoch 92/100\n",
      "165/165 [==============================] - 0s 41us/step - loss: 0.1257 - acc: 0.9455 - val_loss: 0.6061 - val_acc: 0.7887\n",
      "Epoch 93/100\n",
      "165/165 [==============================] - 0s 41us/step - loss: 0.1360 - acc: 0.9273 - val_loss: 0.6044 - val_acc: 0.7606\n",
      "Epoch 94/100\n",
      "165/165 [==============================] - 0s 37us/step - loss: 0.1271 - acc: 0.9394 - val_loss: 0.6169 - val_acc: 0.7465\n",
      "Epoch 95/100\n",
      "165/165 [==============================] - 0s 39us/step - loss: 0.1273 - acc: 0.9455 - val_loss: 0.6410 - val_acc: 0.7465\n",
      "Epoch 96/100\n",
      "165/165 [==============================] - 0s 35us/step - loss: 0.1286 - acc: 0.9576 - val_loss: 0.6247 - val_acc: 0.7606\n",
      "Epoch 97/100\n",
      "165/165 [==============================] - 0s 36us/step - loss: 0.1307 - acc: 0.9394 - val_loss: 0.6246 - val_acc: 0.7606\n",
      "Epoch 98/100\n",
      "165/165 [==============================] - 0s 39us/step - loss: 0.1261 - acc: 0.9394 - val_loss: 0.6508 - val_acc: 0.7465\n",
      "Epoch 99/100\n",
      "165/165 [==============================] - 0s 32us/step - loss: 0.1304 - acc: 0.9576 - val_loss: 0.6343 - val_acc: 0.7465\n",
      "Epoch 100/100\n",
      "165/165 [==============================] - 0s 29us/step - loss: 0.1214 - acc: 0.9515 - val_loss: 0.6275 - val_acc: 0.8028\n"
     ]
    }
   ],
   "source": [
    "output = model.fit(x_train, y_train,validation_split=0.3, epochs=100, batch_size=x_train.shape[0]//2)"
   ]
  },
  {
   "cell_type": "code",
   "execution_count": 64,
   "metadata": {},
   "outputs": [
    {
     "data": {
      "image/png": "[encoded data removed]",
      "text/plain": [
       "<Figure size 432x288 with 1 Axes>"
      ]
     },
     "metadata": {
      "needs_background": "light"
     },
     "output_type": "display_data"
    }
   ],
   "source": [
    "plt.plot(output.history['acc'])\n",
    "plt.plot(output.history['val_acc'])\n",
    "plt.title('model accuracy')\n",
    "plt.ylabel('accuracy')\n",
    "plt.xlabel('epoch')\n",
    "plt.legend(['train', 'test'], loc='upper left')\n",
    "plt.savefig('Accuracy.png',dpi=100)\n",
    "plt.show()"
   ]
  },
  {
   "cell_type": "code",
   "execution_count": null,
   "metadata": {},
   "outputs": [],
   "source": []
  }
 ],
 "metadata": {
  "kernelspec": {
   "display_name": ".venv",
   "language": "python",
   "name": ".venv"
  },
  "language_info": {
   "codemirror_mode": {
    "name": "ipython",
    "version": 3
   },
   "file_extension": ".py",
   "mimetype": "text/x-python",
   "name": "python",
   "nbconvert_exporter": "python",
   "pygments_lexer": "ipython3",
   "version": "3.6.7"
  }
 },
 "nbformat": 4,
 "nbformat_minor": 2
}
