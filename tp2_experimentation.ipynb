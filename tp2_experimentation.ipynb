{
 "cells": [
  {
   "cell_type": "markdown",
   "metadata": {},
   "source": [
    "<h1 align=\"center\">Introducción</h1>\n",
    "\n",
    "Como objetivo en el desarrollo del trabajo practico, lo que buscamos es probar el DataSet con las ingenierias de features que se le habian hecho en el tp1_exploration. En el cual se aplicó, one hot-encoder a las columnas de Sexo, Thalassemia, Chest_Pain_type bajo criterios de discusiones que encontramos de otros usuarios con mas conocimiento en la materia, dentro de las discusiones de kaggle. \n",
    "Los modelos en los cuales nos queremos enfocar, son:\n",
    "\n",
    "<ul>\n",
    "    <li>Arboles de decisión</li>\n",
    "    <li>Regresion Logistica</li>\n",
    "    <li>Redes Neuronales</li>\n",
    "    <li>Ensemble: Random Forest</li>\n",
    "</ul>\n",
    "    \n",
    "Como metricas para el trabajo definimos una principal que es la accuracy, pero tambien nos parece interesante los resultados que arrojaria una metrica como recall en este tipo de estudio, por eso decidimos incluirla:\n",
    "\n",
    "<ul>\n",
    "    <li><strong>Accuracy</strong> --> Para saber en que porcentaje acertamos las predicciones de que una persona va a tener enfermedad del corazon o no </li>\n",
    "    <br>\n",
    "    <li><strong>Recall</strong> --> Ver cuales de esos casos que acertamos, realmente estaban enfermos del corazon sobre la cantidad de enfermos total que habia. La idea de esta eleccion, es porque creemos que es mejor decirle a un paciente sano, que esta enfermo y tome precaucion antes que, este enfermo y se le haya dicho que no lo esta.\n",
    "</ul>\n",
    "\n"
   ]
  },
  {
   "cell_type": "code",
   "execution_count": 1,
   "metadata": {},
   "outputs": [
    {
     "name": "stderr",
     "output_type": "stream",
     "text": [
      "Using TensorFlow backend.\n"
     ]
    }
   ],
   "source": [
    "import pandas as pd\n",
    "import numpy as np\n",
    "%matplotlib inline\n",
    "import matplotlib.pyplot as plt\n",
    "import seaborn as sns\n",
    "from sklearn.model_selection import train_test_split\n",
    "\n",
    "#Metricas\n",
    "from sklearn.metrics import confusion_matrix\n",
    "from sklearn.metrics import accuracy_score\n",
    "from sklearn.metrics import recall_score\n",
    "\n",
    "#Modelos\n",
    "from sklearn.ensemble import RandomForestClassifier\n",
    "from sklearn.linear_model import LogisticRegression\n",
    "from sklearn.neighbors import KNeighborsClassifier\n",
    "from sklearn.tree import DecisionTreeClassifier\n",
    "\n",
    "\n",
    "#Redes Neuronales\n",
    "from keras.models import Sequential\n",
    "from keras.layers import Dense,BatchNormalization\n",
    "from IPython.display import Image\n"
   ]
  },
  {
   "cell_type": "code",
   "execution_count": 2,
   "metadata": {},
   "outputs": [],
   "source": [
    "#Full va a representar al dataset con ingenieria de features aplicadas en el tp1_exploration.ipynb\n",
    "full = pd.read_csv(\"./heart_features.csv\", index_col=0)\n",
    "\n",
    "\n",
    "#Realizamos division en Train y Test del dataset y a su vez el split en x e y de los mismos.\n",
    "x = full.drop(['target'], axis = 1)\n",
    "y = full.target.values\n",
    "x_train, x_test, y_train, y_test = train_test_split(x, y, test_size = 0.2, random_state=5)"
   ]
  },
  {
   "cell_type": "markdown",
   "metadata": {},
   "source": [
    "<h1 align=\"center\">Representacion de Modelos:<h1>"
   ]
  },
  {
   "cell_type": "markdown",
   "metadata": {},
   "source": [
    "<h1>Regresión Logistica</h1>"
   ]
  },
  {
   "cell_type": "code",
   "execution_count": 3,
   "metadata": {},
   "outputs": [
    {
     "name": "stderr",
     "output_type": "stream",
     "text": [
      "/Users/mcasazza/.venv/lib/python3.7/site-packages/sklearn/linear_model/logistic.py:433: FutureWarning: Default solver will be changed to 'lbfgs' in 0.22. Specify a solver to silence this warning.\n",
      "  FutureWarning)\n"
     ]
    }
   ],
   "source": [
    "classifier_LR = LogisticRegression(random_state=4)\n",
    "classifier_LR.fit(x_train,y_train)\n",
    "\n",
    "#Prediccion en Train\n",
    "pred_LR = classifier_LR.predict(x_train)\n",
    "accuracyTrain_LR = accuracy_score(y_train, pred_LR)\n",
    "\n",
    "#Prediccion en Test\n",
    "pred_LR = classifier_LR.predict(x_test)\n",
    "confusionMatrix_LR = confusion_matrix(y_test, pred_LR)\n",
    "accuracyTest_LR = accuracy_score(y_test, pred_LR)\n"
   ]
  },
  {
   "cell_type": "code",
   "execution_count": 4,
   "metadata": {},
   "outputs": [
    {
     "name": "stdout",
     "output_type": "stream",
     "text": [
      "\u001b[1m\u001b[4mAccuracy\u001b[0m\n",
      "Train:  0.8898305084745762\n",
      "Test:  0.8166666666666667\n"
     ]
    },
    {
     "data": {
      "text/plain": [
       "<matplotlib.axes._subplots.AxesSubplot at 0x12e599940>"
      ]
     },
     "execution_count": 4,
     "metadata": {},
     "output_type": "execute_result"
    },
    {
     "data": {
      "image/png": "[encoded data removed]",
      "text/plain": [
       "<Figure size 432x288 with 1 Axes>"
      ]
     },
     "metadata": {
      "needs_background": "light"
     },
     "output_type": "display_data"
    }
   ],
   "source": [
    "print('\\033[1m''\\033[4m' + 'Accuracy' + '\\033[0m')\n",
    "print('Train: ',accuracyTrain_LR)\n",
    "print('Test: ',accuracyTest_LR)\n",
    "\n",
    "plt.subplot(2,3,1)\n",
    "plt.title(\"Matriz de confusion regresion logistica\")\n",
    "sns.heatmap(confusionMatrix_LR ,annot=True,cmap=\"Blues\",fmt=\"d\",cbar=False)"
   ]
  },
  {
   "cell_type": "markdown",
   "metadata": {},
   "source": [
    "<h1> Random Forest </h1>"
   ]
  },
  {
   "cell_type": "code",
   "execution_count": 5,
   "metadata": {},
   "outputs": [
    {
     "name": "stdout",
     "output_type": "stream",
     "text": [
      "\u001b[1m\u001b[4mAccuracy\u001b[0m\n",
      "Train:  0.9703389830508474\n",
      "Test:  0.85\n"
     ]
    }
   ],
   "source": [
    "classifier_RDF = RandomForestClassifier(n_estimators=7,criterion='entropy',random_state=4)\n",
    "classifier_RDF.fit(x_train,y_train)\n",
    "\n",
    "#Predicción en Train\n",
    "pred_RDF = classifier_RDF.predict(x_train)\n",
    "accuracyTrain_RDF=accuracy_score(pred_RDF,y_train)\n",
    "\n",
    "#Predicción en Test\n",
    "pred_RDF = classifier_RDF.predict(x_test)\n",
    "confusionMatrix_RDF = confusion_matrix(y_test,pred_RDF)\n",
    "accuracyTest_RDF = accuracy_score(pred_RDF,y_test)\n",
    "\n",
    "print('\\033[1m''\\033[4m' + 'Accuracy' + '\\033[0m')\n",
    "print('Train: ',accuracyTrain_RDF)\n",
    "print('Test: ',accuracyTest_RDF)\n"
   ]
  },
  {
   "cell_type": "markdown",
   "metadata": {},
   "source": [
    "<h1>DecisionTree Classifier</h1>"
   ]
  },
  {
   "cell_type": "code",
   "execution_count": 6,
   "metadata": {},
   "outputs": [
    {
     "name": "stdout",
     "output_type": "stream",
     "text": [
      "\u001b[1m\u001b[4mAccuracy\u001b[0m\n",
      "Train:  0.940677966101695\n",
      "Test:  0.7333333333333333\n"
     ]
    }
   ],
   "source": [
    "classifier_DTREE = DecisionTreeClassifier(criterion='entropy',random_state=0, max_depth=7,max_features='auto')\n",
    "classifier_DTREE.fit(x_train,y_train)\n",
    "\n",
    "#Predicción en Train\n",
    "pred_DTREE = classifier_DTREE.predict(x_train)\n",
    "accuracyTrain_DTREE = accuracy_score(pred_DTREE,y_train)\n",
    "\n",
    "#Predicción en Test\n",
    "pred_DTREE = classifier_DTREE.predict(x_test)\n",
    "accuracyTest_DTREE = accuracy_score(pred_DTREE,y_test)\n",
    "confusionMatrix_DTREE = confusion_matrix(y_test,pred_DTREE)\n",
    "\n",
    "print('\\033[1m''\\033[4m' + 'Accuracy' + '\\033[0m')\n",
    "print('Train: ',accuracyTrain_DTREE)\n",
    "print('Test: ',accuracyTest_DTREE)"
   ]
  },
  {
   "cell_type": "markdown",
   "metadata": {},
   "source": [
    "<h1> KNN </h1>"
   ]
  },
  {
   "cell_type": "code",
   "execution_count": 7,
   "metadata": {},
   "outputs": [
    {
     "name": "stdout",
     "output_type": "stream",
     "text": [
      "\u001b[1m\u001b[4mAccuracy\u001b[0m\n",
      "Train:  0.7203389830508474\n",
      "Test:  0.6666666666666666\n"
     ]
    }
   ],
   "source": [
    "classifier_KNN = KNeighborsClassifier(n_neighbors=8)\n",
    "classifier_KNN.fit(x_train,y_train)\n",
    "\n",
    "#Predicción en Train\n",
    "pred_KNN = classifier_KNN.predict(x_train)\n",
    "accuracyTrain_KNN = accuracy_score(pred_KNN,y_train)\n",
    "\n",
    "#Predicción en Test\n",
    "pred_KNN = classifier_KNN.predict(x_test)\n",
    "accuracyTest_KNN = accuracy_score(pred_KNN,y_test)\n",
    "confusionMatrix_KNN = confusion_matrix(y_test,pred_KNN)\n",
    "\n",
    "print('\\033[1m''\\033[4m' + 'Accuracy' + '\\033[0m')\n",
    "print('Train: ',accuracyTrain_KNN)\n",
    "print('Test: ',accuracyTest_KNN)"
   ]
  },
  {
   "cell_type": "code",
   "execution_count": 8,
   "metadata": {},
   "outputs": [
    {
     "name": "stdout",
     "output_type": "stream",
     "text": [
      "WARNING:tensorflow:From /Users/mcasazza/.venv/lib/python3.7/site-packages/tensorflow/python/framework/op_def_library.py:263: colocate_with (from tensorflow.python.framework.ops) is deprecated and will be removed in a future version.\n",
      "Instructions for updating:\n",
      "Colocations handled automatically by placer.\n"
     ]
    }
   ],
   "source": [
    "model = Sequential()\n",
    "model.add(Dense(15, input_dim=19, activation='sigmoid'))\n",
    "model.add(Dense(35, activation='sigmoid'))\n",
    "model.add(Dense(1, activation='sigmoid'))"
   ]
  },
  {
   "cell_type": "code",
   "execution_count": 9,
   "metadata": {},
   "outputs": [],
   "source": [
    "model.compile(loss='binary_crossentropy', optimizer='adam', metrics=['accuracy'])"
   ]
  },
  {
   "cell_type": "code",
   "execution_count": 10,
   "metadata": {},
   "outputs": [
    {
     "name": "stdout",
     "output_type": "stream",
     "text": [
      "WARNING:tensorflow:From /Users/mcasazza/.venv/lib/python3.7/site-packages/tensorflow/python/ops/math_ops.py:3066: to_int32 (from tensorflow.python.ops.math_ops) is deprecated and will be removed in a future version.\n",
      "Instructions for updating:\n",
      "Use tf.cast instead.\n",
      "Train on 188 samples, validate on 48 samples\n",
      "Epoch 1/200\n",
      "188/188 [==============================] - 0s 2ms/step - loss: 0.7608 - acc: 0.5532 - val_loss: 0.7014 - val_acc: 0.6042\n",
      "Epoch 2/200\n",
      "188/188 [==============================] - 0s 34us/step - loss: 0.7501 - acc: 0.5532 - val_loss: 0.6941 - val_acc: 0.6042\n",
      "Epoch 3/200\n",
      "188/188 [==============================] - 0s 30us/step - loss: 0.7390 - acc: 0.5532 - val_loss: 0.6877 - val_acc: 0.6042\n",
      "Epoch 4/200\n",
      "188/188 [==============================] - 0s 27us/step - loss: 0.7303 - acc: 0.5532 - val_loss: 0.6824 - val_acc: 0.6042\n",
      "Epoch 5/200\n",
      "188/188 [==============================] - 0s 33us/step - loss: 0.7217 - acc: 0.5532 - val_loss: 0.6783 - val_acc: 0.6042\n",
      "Epoch 6/200\n",
      "188/188 [==============================] - 0s 37us/step - loss: 0.7125 - acc: 0.5532 - val_loss: 0.6752 - val_acc: 0.6042\n",
      "Epoch 7/200\n",
      "188/188 [==============================] - 0s 25us/step - loss: 0.7085 - acc: 0.5532 - val_loss: 0.6731 - val_acc: 0.6042\n",
      "Epoch 8/200\n",
      "188/188 [==============================] - 0s 30us/step - loss: 0.7016 - acc: 0.5532 - val_loss: 0.6719 - val_acc: 0.6042\n",
      "Epoch 9/200\n",
      "188/188 [==============================] - 0s 36us/step - loss: 0.6977 - acc: 0.5532 - val_loss: 0.6714 - val_acc: 0.6042\n",
      "Epoch 10/200\n",
      "188/188 [==============================] - 0s 28us/step - loss: 0.6941 - acc: 0.5532 - val_loss: 0.6715 - val_acc: 0.6042\n",
      "Epoch 11/200\n",
      "188/188 [==============================] - 0s 28us/step - loss: 0.6922 - acc: 0.5532 - val_loss: 0.6721 - val_acc: 0.6042\n",
      "Epoch 12/200\n",
      "188/188 [==============================] - 0s 25us/step - loss: 0.6896 - acc: 0.5532 - val_loss: 0.6731 - val_acc: 0.6042\n",
      "Epoch 13/200\n",
      "188/188 [==============================] - 0s 52us/step - loss: 0.6885 - acc: 0.5532 - val_loss: 0.6743 - val_acc: 0.6042\n",
      "Epoch 14/200\n",
      "188/188 [==============================] - 0s 23us/step - loss: 0.6879 - acc: 0.5532 - val_loss: 0.6753 - val_acc: 0.6042\n",
      "Epoch 15/200\n",
      "188/188 [==============================] - 0s 20us/step - loss: 0.6875 - acc: 0.5532 - val_loss: 0.6761 - val_acc: 0.6042\n",
      "Epoch 16/200\n",
      "188/188 [==============================] - 0s 59us/step - loss: 0.6864 - acc: 0.5532 - val_loss: 0.6766 - val_acc: 0.6042\n",
      "Epoch 17/200\n",
      "188/188 [==============================] - 0s 25us/step - loss: 0.6868 - acc: 0.5532 - val_loss: 0.6771 - val_acc: 0.6042\n",
      "Epoch 18/200\n",
      "188/188 [==============================] - 0s 25us/step - loss: 0.6863 - acc: 0.5532 - val_loss: 0.6772 - val_acc: 0.6042\n",
      "Epoch 19/200\n",
      "188/188 [==============================] - 0s 27us/step - loss: 0.6858 - acc: 0.5532 - val_loss: 0.6771 - val_acc: 0.6042\n",
      "Epoch 20/200\n",
      "188/188 [==============================] - 0s 28us/step - loss: 0.6855 - acc: 0.5532 - val_loss: 0.6769 - val_acc: 0.6042\n",
      "Epoch 21/200\n",
      "188/188 [==============================] - 0s 34us/step - loss: 0.6849 - acc: 0.5532 - val_loss: 0.6769 - val_acc: 0.6042\n",
      "Epoch 22/200\n",
      "188/188 [==============================] - 0s 26us/step - loss: 0.6844 - acc: 0.5532 - val_loss: 0.6768 - val_acc: 0.6042\n",
      "Epoch 23/200\n",
      "188/188 [==============================] - 0s 23us/step - loss: 0.6839 - acc: 0.5532 - val_loss: 0.6767 - val_acc: 0.6042\n",
      "Epoch 24/200\n",
      "188/188 [==============================] - 0s 21us/step - loss: 0.6838 - acc: 0.5532 - val_loss: 0.6763 - val_acc: 0.6042\n",
      "Epoch 25/200\n",
      "188/188 [==============================] - 0s 25us/step - loss: 0.6835 - acc: 0.5532 - val_loss: 0.6759 - val_acc: 0.6042\n",
      "Epoch 26/200\n",
      "188/188 [==============================] - 0s 29us/step - loss: 0.6833 - acc: 0.5532 - val_loss: 0.6753 - val_acc: 0.6042\n",
      "Epoch 27/200\n",
      "188/188 [==============================] - 0s 26us/step - loss: 0.6830 - acc: 0.5532 - val_loss: 0.6746 - val_acc: 0.6042\n",
      "Epoch 28/200\n",
      "188/188 [==============================] - 0s 29us/step - loss: 0.6827 - acc: 0.5532 - val_loss: 0.6739 - val_acc: 0.6042\n",
      "Epoch 29/200\n",
      "188/188 [==============================] - 0s 30us/step - loss: 0.6824 - acc: 0.5532 - val_loss: 0.6733 - val_acc: 0.6042\n",
      "Epoch 30/200\n",
      "188/188 [==============================] - 0s 30us/step - loss: 0.6818 - acc: 0.5532 - val_loss: 0.6727 - val_acc: 0.6042\n",
      "Epoch 31/200\n",
      "188/188 [==============================] - 0s 28us/step - loss: 0.6815 - acc: 0.5532 - val_loss: 0.6720 - val_acc: 0.6042\n",
      "Epoch 32/200\n",
      "188/188 [==============================] - 0s 32us/step - loss: 0.6811 - acc: 0.5532 - val_loss: 0.6713 - val_acc: 0.6042\n",
      "Epoch 33/200\n",
      "188/188 [==============================] - 0s 40us/step - loss: 0.6809 - acc: 0.5532 - val_loss: 0.6708 - val_acc: 0.6042\n",
      "Epoch 34/200\n",
      "188/188 [==============================] - 0s 32us/step - loss: 0.6806 - acc: 0.5532 - val_loss: 0.6704 - val_acc: 0.6042\n",
      "Epoch 35/200\n",
      "188/188 [==============================] - 0s 27us/step - loss: 0.6804 - acc: 0.5532 - val_loss: 0.6701 - val_acc: 0.6042\n",
      "Epoch 36/200\n",
      "188/188 [==============================] - 0s 46us/step - loss: 0.6800 - acc: 0.5532 - val_loss: 0.6699 - val_acc: 0.6042\n",
      "Epoch 37/200\n",
      "188/188 [==============================] - 0s 28us/step - loss: 0.6796 - acc: 0.5532 - val_loss: 0.6698 - val_acc: 0.6042\n",
      "Epoch 38/200\n",
      "188/188 [==============================] - 0s 31us/step - loss: 0.6793 - acc: 0.5532 - val_loss: 0.6696 - val_acc: 0.6042\n",
      "Epoch 39/200\n",
      "188/188 [==============================] - 0s 54us/step - loss: 0.6790 - acc: 0.5532 - val_loss: 0.6695 - val_acc: 0.6042\n",
      "Epoch 40/200\n",
      "188/188 [==============================] - 0s 36us/step - loss: 0.6787 - acc: 0.5532 - val_loss: 0.6692 - val_acc: 0.6042\n",
      "Epoch 41/200\n",
      "188/188 [==============================] - 0s 27us/step - loss: 0.6784 - acc: 0.5532 - val_loss: 0.6689 - val_acc: 0.6042\n",
      "Epoch 42/200\n",
      "188/188 [==============================] - 0s 31us/step - loss: 0.6782 - acc: 0.5532 - val_loss: 0.6686 - val_acc: 0.6042\n",
      "Epoch 43/200\n",
      "188/188 [==============================] - 0s 32us/step - loss: 0.6777 - acc: 0.5532 - val_loss: 0.6683 - val_acc: 0.6042\n",
      "Epoch 44/200\n",
      "188/188 [==============================] - 0s 29us/step - loss: 0.6773 - acc: 0.5532 - val_loss: 0.6679 - val_acc: 0.6042\n",
      "Epoch 45/200\n",
      "188/188 [==============================] - 0s 28us/step - loss: 0.6771 - acc: 0.5532 - val_loss: 0.6676 - val_acc: 0.6042\n",
      "Epoch 46/200\n",
      "188/188 [==============================] - 0s 34us/step - loss: 0.6767 - acc: 0.5532 - val_loss: 0.6672 - val_acc: 0.6042\n",
      "Epoch 47/200\n",
      "188/188 [==============================] - 0s 30us/step - loss: 0.6764 - acc: 0.5532 - val_loss: 0.6670 - val_acc: 0.6042\n",
      "Epoch 48/200\n",
      "188/188 [==============================] - 0s 25us/step - loss: 0.6761 - acc: 0.5532 - val_loss: 0.6667 - val_acc: 0.6042\n",
      "Epoch 49/200\n",
      "188/188 [==============================] - 0s 26us/step - loss: 0.6758 - acc: 0.5532 - val_loss: 0.6664 - val_acc: 0.6042\n",
      "Epoch 50/200\n",
      "188/188 [==============================] - 0s 29us/step - loss: 0.6754 - acc: 0.5532 - val_loss: 0.6660 - val_acc: 0.6042\n",
      "Epoch 51/200\n",
      "188/188 [==============================] - 0s 24us/step - loss: 0.6751 - acc: 0.5532 - val_loss: 0.6656 - val_acc: 0.6042\n",
      "Epoch 52/200\n",
      "188/188 [==============================] - 0s 29us/step - loss: 0.6748 - acc: 0.5532 - val_loss: 0.6653 - val_acc: 0.6042\n",
      "Epoch 53/200\n",
      "188/188 [==============================] - 0s 22us/step - loss: 0.6745 - acc: 0.5532 - val_loss: 0.6650 - val_acc: 0.6042\n",
      "Epoch 54/200\n",
      "188/188 [==============================] - 0s 24us/step - loss: 0.6742 - acc: 0.5532 - val_loss: 0.6646 - val_acc: 0.6042\n",
      "Epoch 55/200\n",
      "188/188 [==============================] - 0s 22us/step - loss: 0.6738 - acc: 0.5532 - val_loss: 0.6644 - val_acc: 0.6042\n",
      "Epoch 56/200\n",
      "188/188 [==============================] - 0s 27us/step - loss: 0.6735 - acc: 0.5532 - val_loss: 0.6642 - val_acc: 0.6042\n",
      "Epoch 57/200\n",
      "188/188 [==============================] - 0s 24us/step - loss: 0.6731 - acc: 0.5532 - val_loss: 0.6641 - val_acc: 0.6042\n",
      "Epoch 58/200\n",
      "188/188 [==============================] - 0s 27us/step - loss: 0.6729 - acc: 0.5532 - val_loss: 0.6641 - val_acc: 0.6042\n",
      "Epoch 59/200\n"
     ]
    },
    {
     "name": "stdout",
     "output_type": "stream",
     "text": [
      "188/188 [==============================] - 0s 29us/step - loss: 0.6725 - acc: 0.5532 - val_loss: 0.6640 - val_acc: 0.6042\n",
      "Epoch 60/200\n",
      "188/188 [==============================] - 0s 28us/step - loss: 0.6722 - acc: 0.5532 - val_loss: 0.6639 - val_acc: 0.6042\n",
      "Epoch 61/200\n",
      "188/188 [==============================] - 0s 24us/step - loss: 0.6718 - acc: 0.5532 - val_loss: 0.6637 - val_acc: 0.6042\n",
      "Epoch 62/200\n",
      "188/188 [==============================] - 0s 26us/step - loss: 0.6714 - acc: 0.5532 - val_loss: 0.6635 - val_acc: 0.6042\n",
      "Epoch 63/200\n",
      "188/188 [==============================] - 0s 26us/step - loss: 0.6711 - acc: 0.5532 - val_loss: 0.6633 - val_acc: 0.6042\n",
      "Epoch 64/200\n",
      "188/188 [==============================] - 0s 23us/step - loss: 0.6708 - acc: 0.5532 - val_loss: 0.6631 - val_acc: 0.6042\n",
      "Epoch 65/200\n",
      "188/188 [==============================] - 0s 36us/step - loss: 0.6704 - acc: 0.5532 - val_loss: 0.6630 - val_acc: 0.6042\n",
      "Epoch 66/200\n",
      "188/188 [==============================] - 0s 28us/step - loss: 0.6701 - acc: 0.5532 - val_loss: 0.6629 - val_acc: 0.6042\n",
      "Epoch 67/200\n",
      "188/188 [==============================] - 0s 31us/step - loss: 0.6699 - acc: 0.5532 - val_loss: 0.6629 - val_acc: 0.6042\n",
      "Epoch 68/200\n",
      "188/188 [==============================] - 0s 33us/step - loss: 0.6695 - acc: 0.5532 - val_loss: 0.6625 - val_acc: 0.6042\n",
      "Epoch 69/200\n",
      "188/188 [==============================] - 0s 27us/step - loss: 0.6691 - acc: 0.5532 - val_loss: 0.6622 - val_acc: 0.6042\n",
      "Epoch 70/200\n",
      "188/188 [==============================] - 0s 25us/step - loss: 0.6687 - acc: 0.5532 - val_loss: 0.6618 - val_acc: 0.6042\n",
      "Epoch 71/200\n",
      "188/188 [==============================] - 0s 25us/step - loss: 0.6683 - acc: 0.5532 - val_loss: 0.6612 - val_acc: 0.6042\n",
      "Epoch 72/200\n",
      "188/188 [==============================] - 0s 31us/step - loss: 0.6680 - acc: 0.5532 - val_loss: 0.6606 - val_acc: 0.6042\n",
      "Epoch 73/200\n",
      "188/188 [==============================] - 0s 21us/step - loss: 0.6677 - acc: 0.5532 - val_loss: 0.6599 - val_acc: 0.6042\n",
      "Epoch 74/200\n",
      "188/188 [==============================] - 0s 29us/step - loss: 0.6673 - acc: 0.5532 - val_loss: 0.6594 - val_acc: 0.6042\n",
      "Epoch 75/200\n",
      "188/188 [==============================] - 0s 43us/step - loss: 0.6671 - acc: 0.5532 - val_loss: 0.6590 - val_acc: 0.6042\n",
      "Epoch 76/200\n",
      "188/188 [==============================] - 0s 29us/step - loss: 0.6665 - acc: 0.5532 - val_loss: 0.6586 - val_acc: 0.6042\n",
      "Epoch 77/200\n",
      "188/188 [==============================] - 0s 24us/step - loss: 0.6662 - acc: 0.5532 - val_loss: 0.6582 - val_acc: 0.6042\n",
      "Epoch 78/200\n",
      "188/188 [==============================] - 0s 52us/step - loss: 0.6659 - acc: 0.5532 - val_loss: 0.6576 - val_acc: 0.6042\n",
      "Epoch 79/200\n",
      "188/188 [==============================] - 0s 40us/step - loss: 0.6656 - acc: 0.5532 - val_loss: 0.6570 - val_acc: 0.6042\n",
      "Epoch 80/200\n",
      "188/188 [==============================] - 0s 36us/step - loss: 0.6654 - acc: 0.5532 - val_loss: 0.6564 - val_acc: 0.6042\n",
      "Epoch 81/200\n",
      "188/188 [==============================] - 0s 25us/step - loss: 0.6648 - acc: 0.5532 - val_loss: 0.6561 - val_acc: 0.6042\n",
      "Epoch 82/200\n",
      "188/188 [==============================] - 0s 25us/step - loss: 0.6645 - acc: 0.5532 - val_loss: 0.6560 - val_acc: 0.6042\n",
      "Epoch 83/200\n",
      "188/188 [==============================] - 0s 23us/step - loss: 0.6640 - acc: 0.5532 - val_loss: 0.6561 - val_acc: 0.6042\n",
      "Epoch 84/200\n",
      "188/188 [==============================] - 0s 28us/step - loss: 0.6637 - acc: 0.5532 - val_loss: 0.6563 - val_acc: 0.6042\n",
      "Epoch 85/200\n",
      "188/188 [==============================] - 0s 23us/step - loss: 0.6633 - acc: 0.5532 - val_loss: 0.6565 - val_acc: 0.6042\n",
      "Epoch 86/200\n",
      "188/188 [==============================] - 0s 31us/step - loss: 0.6629 - acc: 0.5532 - val_loss: 0.6566 - val_acc: 0.6042\n",
      "Epoch 87/200\n",
      "188/188 [==============================] - 0s 42us/step - loss: 0.6625 - acc: 0.5532 - val_loss: 0.6566 - val_acc: 0.6042\n",
      "Epoch 88/200\n",
      "188/188 [==============================] - 0s 30us/step - loss: 0.6622 - acc: 0.5532 - val_loss: 0.6568 - val_acc: 0.6042\n",
      "Epoch 89/200\n",
      "188/188 [==============================] - 0s 30us/step - loss: 0.6619 - acc: 0.5532 - val_loss: 0.6568 - val_acc: 0.6042\n",
      "Epoch 90/200\n",
      "188/188 [==============================] - 0s 27us/step - loss: 0.6617 - acc: 0.5532 - val_loss: 0.6567 - val_acc: 0.6042\n",
      "Epoch 91/200\n",
      "188/188 [==============================] - 0s 24us/step - loss: 0.6614 - acc: 0.5532 - val_loss: 0.6568 - val_acc: 0.6042\n",
      "Epoch 92/200\n",
      "188/188 [==============================] - 0s 24us/step - loss: 0.6610 - acc: 0.5532 - val_loss: 0.6565 - val_acc: 0.6042\n",
      "Epoch 93/200\n",
      "188/188 [==============================] - 0s 26us/step - loss: 0.6606 - acc: 0.5532 - val_loss: 0.6562 - val_acc: 0.6042\n",
      "Epoch 94/200\n",
      "188/188 [==============================] - 0s 28us/step - loss: 0.6601 - acc: 0.5532 - val_loss: 0.6555 - val_acc: 0.6042\n",
      "Epoch 95/200\n",
      "188/188 [==============================] - 0s 24us/step - loss: 0.6598 - acc: 0.5532 - val_loss: 0.6546 - val_acc: 0.6042\n",
      "Epoch 96/200\n",
      "188/188 [==============================] - 0s 24us/step - loss: 0.6593 - acc: 0.5532 - val_loss: 0.6537 - val_acc: 0.6042\n",
      "Epoch 97/200\n",
      "188/188 [==============================] - 0s 27us/step - loss: 0.6591 - acc: 0.5532 - val_loss: 0.6528 - val_acc: 0.6042\n",
      "Epoch 98/200\n",
      "188/188 [==============================] - 0s 31us/step - loss: 0.6585 - acc: 0.5532 - val_loss: 0.6520 - val_acc: 0.6042\n",
      "Epoch 99/200\n",
      "188/188 [==============================] - 0s 26us/step - loss: 0.6580 - acc: 0.5532 - val_loss: 0.6512 - val_acc: 0.6042\n",
      "Epoch 100/200\n",
      "188/188 [==============================] - 0s 30us/step - loss: 0.6576 - acc: 0.5532 - val_loss: 0.6505 - val_acc: 0.6042\n",
      "Epoch 101/200\n",
      "188/188 [==============================] - 0s 26us/step - loss: 0.6575 - acc: 0.5532 - val_loss: 0.6498 - val_acc: 0.6042\n",
      "Epoch 102/200\n",
      "188/188 [==============================] - 0s 25us/step - loss: 0.6569 - acc: 0.5532 - val_loss: 0.6496 - val_acc: 0.6042\n",
      "Epoch 103/200\n",
      "188/188 [==============================] - 0s 25us/step - loss: 0.6565 - acc: 0.5532 - val_loss: 0.6496 - val_acc: 0.6042\n",
      "Epoch 104/200\n",
      "188/188 [==============================] - 0s 33us/step - loss: 0.6561 - acc: 0.5532 - val_loss: 0.6495 - val_acc: 0.6042\n",
      "Epoch 105/200\n",
      "188/188 [==============================] - 0s 31us/step - loss: 0.6558 - acc: 0.5532 - val_loss: 0.6494 - val_acc: 0.6042\n",
      "Epoch 106/200\n",
      "188/188 [==============================] - 0s 24us/step - loss: 0.6555 - acc: 0.5532 - val_loss: 0.6489 - val_acc: 0.6042\n",
      "Epoch 107/200\n",
      "188/188 [==============================] - 0s 33us/step - loss: 0.6551 - acc: 0.5532 - val_loss: 0.6485 - val_acc: 0.6042\n",
      "Epoch 108/200\n",
      "188/188 [==============================] - 0s 35us/step - loss: 0.6546 - acc: 0.5532 - val_loss: 0.6480 - val_acc: 0.6042\n",
      "Epoch 109/200\n",
      "188/188 [==============================] - 0s 24us/step - loss: 0.6541 - acc: 0.5532 - val_loss: 0.6477 - val_acc: 0.6042\n",
      "Epoch 110/200\n",
      "188/188 [==============================] - 0s 25us/step - loss: 0.6537 - acc: 0.5532 - val_loss: 0.6474 - val_acc: 0.6042\n",
      "Epoch 111/200\n",
      "188/188 [==============================] - 0s 28us/step - loss: 0.6534 - acc: 0.5532 - val_loss: 0.6473 - val_acc: 0.6042\n",
      "Epoch 112/200\n",
      "188/188 [==============================] - 0s 26us/step - loss: 0.6530 - acc: 0.5532 - val_loss: 0.6472 - val_acc: 0.6042\n",
      "Epoch 113/200\n",
      "188/188 [==============================] - 0s 42us/step - loss: 0.6524 - acc: 0.5532 - val_loss: 0.6469 - val_acc: 0.6042\n",
      "Epoch 114/200\n",
      "188/188 [==============================] - 0s 28us/step - loss: 0.6522 - acc: 0.5532 - val_loss: 0.6467 - val_acc: 0.6042\n",
      "Epoch 115/200\n",
      "188/188 [==============================] - 0s 26us/step - loss: 0.6516 - acc: 0.5532 - val_loss: 0.6463 - val_acc: 0.6042\n",
      "Epoch 116/200\n",
      "188/188 [==============================] - 0s 55us/step - loss: 0.6512 - acc: 0.5532 - val_loss: 0.6459 - val_acc: 0.6042\n",
      "Epoch 117/200\n",
      "188/188 [==============================] - 0s 80us/step - loss: 0.6508 - acc: 0.5532 - val_loss: 0.6454 - val_acc: 0.6042\n",
      "Epoch 118/200\n",
      "188/188 [==============================] - 0s 80us/step - loss: 0.6504 - acc: 0.5532 - val_loss: 0.6448 - val_acc: 0.6042\n",
      "Epoch 119/200\n"
     ]
    },
    {
     "name": "stdout",
     "output_type": "stream",
     "text": [
      "188/188 [==============================] - 0s 65us/step - loss: 0.6499 - acc: 0.5532 - val_loss: 0.6443 - val_acc: 0.6042\n",
      "Epoch 120/200\n",
      "188/188 [==============================] - 0s 30us/step - loss: 0.6497 - acc: 0.5532 - val_loss: 0.6441 - val_acc: 0.6042\n",
      "Epoch 121/200\n",
      "188/188 [==============================] - 0s 71us/step - loss: 0.6491 - acc: 0.5532 - val_loss: 0.6437 - val_acc: 0.6042\n",
      "Epoch 122/200\n",
      "188/188 [==============================] - 0s 40us/step - loss: 0.6486 - acc: 0.5532 - val_loss: 0.6434 - val_acc: 0.6042\n",
      "Epoch 123/200\n",
      "188/188 [==============================] - 0s 46us/step - loss: 0.6483 - acc: 0.5532 - val_loss: 0.6432 - val_acc: 0.6042\n",
      "Epoch 124/200\n",
      "188/188 [==============================] - 0s 33us/step - loss: 0.6482 - acc: 0.5532 - val_loss: 0.6426 - val_acc: 0.6042\n",
      "Epoch 125/200\n",
      "188/188 [==============================] - 0s 58us/step - loss: 0.6476 - acc: 0.5532 - val_loss: 0.6419 - val_acc: 0.6042\n",
      "Epoch 126/200\n",
      "188/188 [==============================] - 0s 36us/step - loss: 0.6469 - acc: 0.5532 - val_loss: 0.6413 - val_acc: 0.6042\n",
      "Epoch 127/200\n",
      "188/188 [==============================] - 0s 51us/step - loss: 0.6463 - acc: 0.5532 - val_loss: 0.6408 - val_acc: 0.6042\n",
      "Epoch 128/200\n",
      "188/188 [==============================] - 0s 42us/step - loss: 0.6460 - acc: 0.5532 - val_loss: 0.6401 - val_acc: 0.6042\n",
      "Epoch 129/200\n",
      "188/188 [==============================] - 0s 29us/step - loss: 0.6457 - acc: 0.5532 - val_loss: 0.6400 - val_acc: 0.6042\n",
      "Epoch 130/200\n",
      "188/188 [==============================] - 0s 37us/step - loss: 0.6444 - acc: 0.5532 - val_loss: 0.6396 - val_acc: 0.6042\n",
      "Epoch 131/200\n",
      "188/188 [==============================] - 0s 34us/step - loss: 0.6432 - acc: 0.5532 - val_loss: 0.6379 - val_acc: 0.6042\n",
      "Epoch 132/200\n",
      "188/188 [==============================] - 0s 38us/step - loss: 0.6425 - acc: 0.5532 - val_loss: 0.6368 - val_acc: 0.6042\n",
      "Epoch 133/200\n",
      "188/188 [==============================] - 0s 25us/step - loss: 0.6416 - acc: 0.5532 - val_loss: 0.6353 - val_acc: 0.6875\n",
      "Epoch 134/200\n",
      "188/188 [==============================] - 0s 37us/step - loss: 0.6410 - acc: 0.6277 - val_loss: 0.6343 - val_acc: 0.6875\n",
      "Epoch 135/200\n",
      "188/188 [==============================] - 0s 29us/step - loss: 0.6398 - acc: 0.6489 - val_loss: 0.6332 - val_acc: 0.6875\n",
      "Epoch 136/200\n",
      "188/188 [==============================] - 0s 37us/step - loss: 0.6384 - acc: 0.6596 - val_loss: 0.6336 - val_acc: 0.7083\n",
      "Epoch 137/200\n",
      "188/188 [==============================] - 0s 27us/step - loss: 0.6377 - acc: 0.6596 - val_loss: 0.6341 - val_acc: 0.6875\n",
      "Epoch 138/200\n",
      "188/188 [==============================] - 0s 40us/step - loss: 0.6369 - acc: 0.6649 - val_loss: 0.6336 - val_acc: 0.6875\n",
      "Epoch 139/200\n",
      "188/188 [==============================] - 0s 26us/step - loss: 0.6361 - acc: 0.6596 - val_loss: 0.6326 - val_acc: 0.6875\n",
      "Epoch 140/200\n",
      "188/188 [==============================] - 0s 74us/step - loss: 0.6351 - acc: 0.6649 - val_loss: 0.6314 - val_acc: 0.6875\n",
      "Epoch 141/200\n",
      "188/188 [==============================] - 0s 29us/step - loss: 0.6340 - acc: 0.6702 - val_loss: 0.6305 - val_acc: 0.6875\n",
      "Epoch 142/200\n",
      "188/188 [==============================] - 0s 39us/step - loss: 0.6330 - acc: 0.6702 - val_loss: 0.6294 - val_acc: 0.6875\n",
      "Epoch 143/200\n",
      "188/188 [==============================] - 0s 26us/step - loss: 0.6323 - acc: 0.6755 - val_loss: 0.6285 - val_acc: 0.6875\n",
      "Epoch 144/200\n",
      "188/188 [==============================] - 0s 40us/step - loss: 0.6316 - acc: 0.6702 - val_loss: 0.6284 - val_acc: 0.6875\n",
      "Epoch 145/200\n",
      "188/188 [==============================] - 0s 50us/step - loss: 0.6307 - acc: 0.6649 - val_loss: 0.6279 - val_acc: 0.6875\n",
      "Epoch 146/200\n",
      "188/188 [==============================] - 0s 45us/step - loss: 0.6298 - acc: 0.6702 - val_loss: 0.6277 - val_acc: 0.6875\n",
      "Epoch 147/200\n",
      "188/188 [==============================] - 0s 28us/step - loss: 0.6288 - acc: 0.6702 - val_loss: 0.6275 - val_acc: 0.6875\n",
      "Epoch 148/200\n",
      "188/188 [==============================] - 0s 27us/step - loss: 0.6286 - acc: 0.6702 - val_loss: 0.6274 - val_acc: 0.7083\n",
      "Epoch 149/200\n",
      "188/188 [==============================] - 0s 35us/step - loss: 0.6272 - acc: 0.6702 - val_loss: 0.6257 - val_acc: 0.6875\n",
      "Epoch 150/200\n",
      "188/188 [==============================] - 0s 25us/step - loss: 0.6274 - acc: 0.6649 - val_loss: 0.6236 - val_acc: 0.6875\n",
      "Epoch 151/200\n",
      "188/188 [==============================] - 0s 23us/step - loss: 0.6255 - acc: 0.6809 - val_loss: 0.6234 - val_acc: 0.6875\n",
      "Epoch 152/200\n",
      "188/188 [==============================] - 0s 29us/step - loss: 0.6251 - acc: 0.6809 - val_loss: 0.6236 - val_acc: 0.6875\n",
      "Epoch 153/200\n",
      "188/188 [==============================] - 0s 25us/step - loss: 0.6239 - acc: 0.6702 - val_loss: 0.6236 - val_acc: 0.7083\n",
      "Epoch 154/200\n",
      "188/188 [==============================] - 0s 27us/step - loss: 0.6232 - acc: 0.6755 - val_loss: 0.6229 - val_acc: 0.6875\n",
      "Epoch 155/200\n",
      "188/188 [==============================] - 0s 27us/step - loss: 0.6222 - acc: 0.6809 - val_loss: 0.6215 - val_acc: 0.6875\n",
      "Epoch 156/200\n",
      "188/188 [==============================] - 0s 40us/step - loss: 0.6217 - acc: 0.6809 - val_loss: 0.6203 - val_acc: 0.6875\n",
      "Epoch 157/200\n",
      "188/188 [==============================] - 0s 39us/step - loss: 0.6208 - acc: 0.6809 - val_loss: 0.6186 - val_acc: 0.6875\n",
      "Epoch 158/200\n",
      "188/188 [==============================] - 0s 33us/step - loss: 0.6202 - acc: 0.6755 - val_loss: 0.6175 - val_acc: 0.6875\n",
      "Epoch 159/200\n",
      "188/188 [==============================] - 0s 31us/step - loss: 0.6194 - acc: 0.6755 - val_loss: 0.6174 - val_acc: 0.6875\n",
      "Epoch 160/200\n",
      "188/188 [==============================] - 0s 25us/step - loss: 0.6186 - acc: 0.6809 - val_loss: 0.6174 - val_acc: 0.6875\n",
      "Epoch 161/200\n",
      "188/188 [==============================] - 0s 26us/step - loss: 0.6178 - acc: 0.6809 - val_loss: 0.6180 - val_acc: 0.7083\n",
      "Epoch 162/200\n",
      "188/188 [==============================] - 0s 30us/step - loss: 0.6170 - acc: 0.6809 - val_loss: 0.6175 - val_acc: 0.7083\n",
      "Epoch 163/200\n",
      "188/188 [==============================] - 0s 28us/step - loss: 0.6162 - acc: 0.6862 - val_loss: 0.6166 - val_acc: 0.7083\n",
      "Epoch 164/200\n",
      "188/188 [==============================] - 0s 32us/step - loss: 0.6152 - acc: 0.6862 - val_loss: 0.6155 - val_acc: 0.6875\n",
      "Epoch 165/200\n",
      "188/188 [==============================] - 0s 29us/step - loss: 0.6144 - acc: 0.6809 - val_loss: 0.6144 - val_acc: 0.6875\n",
      "Epoch 166/200\n",
      "188/188 [==============================] - 0s 26us/step - loss: 0.6139 - acc: 0.6755 - val_loss: 0.6138 - val_acc: 0.6875\n",
      "Epoch 167/200\n",
      "188/188 [==============================] - 0s 26us/step - loss: 0.6133 - acc: 0.6755 - val_loss: 0.6142 - val_acc: 0.7083\n",
      "Epoch 168/200\n",
      "188/188 [==============================] - 0s 27us/step - loss: 0.6122 - acc: 0.6755 - val_loss: 0.6138 - val_acc: 0.7083\n",
      "Epoch 169/200\n",
      "188/188 [==============================] - 0s 24us/step - loss: 0.6114 - acc: 0.6755 - val_loss: 0.6144 - val_acc: 0.7083\n",
      "Epoch 170/200\n",
      "188/188 [==============================] - 0s 23us/step - loss: 0.6114 - acc: 0.6596 - val_loss: 0.6146 - val_acc: 0.7083\n",
      "Epoch 171/200\n",
      "188/188 [==============================] - 0s 28us/step - loss: 0.6102 - acc: 0.6702 - val_loss: 0.6142 - val_acc: 0.7083\n",
      "Epoch 172/200\n",
      "188/188 [==============================] - 0s 27us/step - loss: 0.6093 - acc: 0.6702 - val_loss: 0.6130 - val_acc: 0.7083\n",
      "Epoch 173/200\n",
      "188/188 [==============================] - 0s 35us/step - loss: 0.6085 - acc: 0.6649 - val_loss: 0.6113 - val_acc: 0.7083\n",
      "Epoch 174/200\n",
      "188/188 [==============================] - 0s 45us/step - loss: 0.6079 - acc: 0.6755 - val_loss: 0.6104 - val_acc: 0.7083\n",
      "Epoch 175/200\n",
      "188/188 [==============================] - 0s 28us/step - loss: 0.6069 - acc: 0.6862 - val_loss: 0.6105 - val_acc: 0.7083\n",
      "Epoch 176/200\n",
      "188/188 [==============================] - 0s 24us/step - loss: 0.6063 - acc: 0.6809 - val_loss: 0.6108 - val_acc: 0.7083\n",
      "Epoch 177/200\n",
      "188/188 [==============================] - 0s 25us/step - loss: 0.6060 - acc: 0.6809 - val_loss: 0.6104 - val_acc: 0.7083\n",
      "Epoch 178/200\n",
      "188/188 [==============================] - 0s 26us/step - loss: 0.6053 - acc: 0.6649 - val_loss: 0.6103 - val_acc: 0.7083\n",
      "Epoch 179/200\n"
     ]
    },
    {
     "name": "stdout",
     "output_type": "stream",
     "text": [
      "188/188 [==============================] - 0s 26us/step - loss: 0.6042 - acc: 0.6702 - val_loss: 0.6097 - val_acc: 0.7083\n",
      "Epoch 180/200\n",
      "188/188 [==============================] - 0s 26us/step - loss: 0.6035 - acc: 0.6702 - val_loss: 0.6083 - val_acc: 0.7083\n",
      "Epoch 181/200\n",
      "188/188 [==============================] - 0s 21us/step - loss: 0.6030 - acc: 0.6702 - val_loss: 0.6070 - val_acc: 0.7083\n",
      "Epoch 182/200\n",
      "188/188 [==============================] - 0s 26us/step - loss: 0.6019 - acc: 0.6755 - val_loss: 0.6068 - val_acc: 0.7083\n",
      "Epoch 183/200\n",
      "188/188 [==============================] - 0s 27us/step - loss: 0.6016 - acc: 0.6755 - val_loss: 0.6060 - val_acc: 0.7083\n",
      "Epoch 184/200\n",
      "188/188 [==============================] - 0s 33us/step - loss: 0.6007 - acc: 0.6702 - val_loss: 0.6059 - val_acc: 0.7083\n",
      "Epoch 185/200\n",
      "188/188 [==============================] - 0s 26us/step - loss: 0.5999 - acc: 0.6755 - val_loss: 0.6061 - val_acc: 0.7083\n",
      "Epoch 186/200\n",
      "188/188 [==============================] - 0s 32us/step - loss: 0.5991 - acc: 0.6755 - val_loss: 0.6063 - val_acc: 0.7083\n",
      "Epoch 187/200\n",
      "188/188 [==============================] - 0s 27us/step - loss: 0.5983 - acc: 0.6755 - val_loss: 0.6061 - val_acc: 0.7083\n",
      "Epoch 188/200\n",
      "188/188 [==============================] - 0s 31us/step - loss: 0.5980 - acc: 0.6755 - val_loss: 0.6053 - val_acc: 0.7083\n",
      "Epoch 189/200\n",
      "188/188 [==============================] - 0s 33us/step - loss: 0.5974 - acc: 0.6809 - val_loss: 0.6052 - val_acc: 0.7083\n",
      "Epoch 190/200\n",
      "188/188 [==============================] - 0s 28us/step - loss: 0.5965 - acc: 0.6862 - val_loss: 0.6046 - val_acc: 0.7083\n",
      "Epoch 191/200\n",
      "188/188 [==============================] - 0s 36us/step - loss: 0.5957 - acc: 0.6862 - val_loss: 0.6033 - val_acc: 0.7083\n",
      "Epoch 192/200\n",
      "188/188 [==============================] - 0s 31us/step - loss: 0.5950 - acc: 0.6755 - val_loss: 0.6023 - val_acc: 0.7083\n",
      "Epoch 193/200\n",
      "188/188 [==============================] - 0s 39us/step - loss: 0.5951 - acc: 0.6755 - val_loss: 0.6015 - val_acc: 0.7083\n",
      "Epoch 194/200\n",
      "188/188 [==============================] - 0s 31us/step - loss: 0.5940 - acc: 0.6809 - val_loss: 0.6000 - val_acc: 0.7083\n",
      "Epoch 195/200\n",
      "188/188 [==============================] - 0s 30us/step - loss: 0.5931 - acc: 0.6862 - val_loss: 0.5993 - val_acc: 0.7083\n",
      "Epoch 196/200\n",
      "188/188 [==============================] - 0s 32us/step - loss: 0.5924 - acc: 0.6915 - val_loss: 0.5992 - val_acc: 0.7083\n",
      "Epoch 197/200\n",
      "188/188 [==============================] - 0s 24us/step - loss: 0.5918 - acc: 0.6862 - val_loss: 0.5991 - val_acc: 0.7083\n",
      "Epoch 198/200\n",
      "188/188 [==============================] - 0s 30us/step - loss: 0.5916 - acc: 0.6968 - val_loss: 0.5991 - val_acc: 0.7083\n",
      "Epoch 199/200\n",
      "188/188 [==============================] - 0s 29us/step - loss: 0.5902 - acc: 0.6915 - val_loss: 0.5991 - val_acc: 0.7083\n",
      "Epoch 200/200\n",
      "188/188 [==============================] - 0s 26us/step - loss: 0.5912 - acc: 0.6809 - val_loss: 0.5993 - val_acc: 0.7083\n"
     ]
    }
   ],
   "source": [
    "output = model.fit(x_train, y_train,validation_split=0.2, epochs=200, batch_size=x_train.shape[0]//2)"
   ]
  },
  {
   "cell_type": "code",
   "execution_count": 11,
   "metadata": {},
   "outputs": [
    {
     "ename": "NameError",
     "evalue": "name 'rdf_ac' is not defined",
     "output_type": "error",
     "traceback": [
      "\u001b[0;31m---------------------------------------------------------------------------\u001b[0m",
      "\u001b[0;31mNameError\u001b[0m                                 Traceback (most recent call last)",
      "\u001b[0;32m<ipython-input-11-f302b400ddc2>\u001b[0m in \u001b[0;36m<module>\u001b[0;34m\u001b[0m\n\u001b[1;32m      1\u001b[0m \u001b[0;34m\u001b[0m\u001b[0m\n\u001b[0;32m----> 2\u001b[0;31m \u001b[0mprint\u001b[0m\u001b[0;34m(\u001b[0m\u001b[0;34m'RandomForest_accuracy:\\t\\t'\u001b[0m\u001b[0;34m,\u001b[0m\u001b[0mrdf_ac\u001b[0m\u001b[0;34m)\u001b[0m\u001b[0;34m\u001b[0m\u001b[0;34m\u001b[0m\u001b[0m\n\u001b[0m\u001b[1;32m      3\u001b[0m \u001b[0mprint\u001b[0m\u001b[0;34m(\u001b[0m\u001b[0;34m'DecisionTree_accuracy:\\t\\t'\u001b[0m\u001b[0;34m,\u001b[0m\u001b[0mdtree_ac\u001b[0m\u001b[0;34m)\u001b[0m\u001b[0;34m\u001b[0m\u001b[0;34m\u001b[0m\u001b[0m\n\u001b[1;32m      4\u001b[0m \u001b[0mprint\u001b[0m\u001b[0;34m(\u001b[0m\u001b[0;34m'KNN_accuracy:\\t\\t\\t'\u001b[0m\u001b[0;34m,\u001b[0m\u001b[0mknn_ac\u001b[0m\u001b[0;34m)\u001b[0m\u001b[0;34m\u001b[0m\u001b[0;34m\u001b[0m\u001b[0m\n\u001b[1;32m      5\u001b[0m \u001b[0mprint\u001b[0m\u001b[0;34m(\u001b[0m\u001b[0;34m'KNN_accuracy:\\t\\t\\t'\u001b[0m\u001b[0;34m,\u001b[0m\u001b[0mknn_actrain\u001b[0m\u001b[0;34m)\u001b[0m\u001b[0;34m\u001b[0m\u001b[0;34m\u001b[0m\u001b[0m\n",
      "\u001b[0;31mNameError\u001b[0m: name 'rdf_ac' is not defined"
     ]
    }
   ],
   "source": [
    "\n",
    "print('RandomForest_accuracy:\\t\\t',rdf_ac)\n",
    "print('DecisionTree_accuracy:\\t\\t',dtree_ac)\n",
    "print('KNN_accuracy:\\t\\t\\t',knn_ac)\n",
    "print('KNN_accuracy:\\t\\t\\t',knn_actrain)\n",
    "\n",
    "print(lr_cm)\n"
   ]
  },
  {
   "cell_type": "code",
   "execution_count": null,
   "metadata": {},
   "outputs": [],
   "source": []
  }
 ],
 "metadata": {
  "kernelspec": {
   "display_name": ".venv",
   "language": "python",
   "name": ".venv"
  },
  "language_info": {
   "codemirror_mode": {
    "name": "ipython",
    "version": 3
   },
   "file_extension": ".py",
   "mimetype": "text/x-python",
   "name": "python",
   "nbconvert_exporter": "python",
   "pygments_lexer": "ipython3",
   "version": "3.7.3"
  }
 },
 "nbformat": 4,
 "nbformat_minor": 2
}
