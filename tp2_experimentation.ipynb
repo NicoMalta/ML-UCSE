{
 "cells": [
  {
   "cell_type": "markdown",
   "metadata": {},
   "source": [
    "<h1 align=\"center\">Introducción</h1>\n",
    "\n",
    "Como objetivo en el desarrollo del trabajo practico, lo que buscamos es probar el DataSet con las ingenierias de features que se le habian hecho en el tp1_exploration. En el cual se aplicó, one hot-encoder a las columnas de Sexo, Thalassemia, Chest_Pain_type bajo criterios de discusiones que encontramos de otros usuarios con mas conocimiento en la materia, dentro de las discusiones de kaggle. \n",
    "Los modelos en los cuales nos queremos enfocar, son:\n",
    "\n",
    "<ul>\n",
    "    <li>Arboles de decisión</li>\n",
    "    <li>Regresion Logistica</li>\n",
    "    <li>Redes Neuronales</li>\n",
    "    <li>Ensemble: Random Forest</li>\n",
    "</ul>\n",
    "    \n",
    "Como metricas para el trabajo definimos una principal que es la accuracy, pero tambien nos parece interesante los resultados que arrojaria una metrica como recall en este tipo de estudio, por eso decidimos incluirla:\n",
    "\n",
    "<ul>\n",
    "    <li><strong>Accuracy</strong> --> Para saber en que porcentaje acertamos las predicciones de que una persona va a tener enfermedad del corazon o no </li>\n",
    "    <br>\n",
    "    <li><strong>Recall</strong> --> Ver cuales de esos casos que acertamos, realmente estaban enfermos del corazon sobre la cantidad de enfermos total que habia. La idea de esta eleccion, es porque creemos que es mejor decirle a un paciente sano, que esta enfermo y tome precaucion antes que, este enfermo y se le haya dicho que no lo esta.\n",
    "</ul>\n",
    "\n"
   ]
  },
  {
   "cell_type": "code",
   "execution_count": 1,
   "metadata": {},
   "outputs": [
    {
     "name": "stderr",
     "output_type": "stream",
     "text": [
      "Using TensorFlow backend.\n"
     ]
    }
   ],
   "source": [
    "import pandas as pd\n",
    "import numpy as np\n",
    "%matplotlib inline\n",
    "import matplotlib.pyplot as plt\n",
    "from matplotlib.colors import ListedColormap\n",
    "import seaborn as sns\n",
    "from sklearn.model_selection import train_test_split\n",
    "\n",
    "#Metricas\n",
    "from sklearn.metrics import confusion_matrix\n",
    "from sklearn.metrics import accuracy_score\n",
    "from sklearn.metrics import recall_score\n",
    "\n",
    "#Modelos\n",
    "from sklearn.ensemble import RandomForestClassifier\n",
    "from sklearn.linear_model import LogisticRegression\n",
    "from sklearn.neighbors import KNeighborsClassifier\n",
    "from sklearn.tree import DecisionTreeClassifier\n",
    "\n",
    "\n",
    "#Redes Neuronales\n",
    "from keras.models import Sequential\n",
    "from keras.layers import Dense,BatchNormalization,Dropout\n",
    "from IPython.display import Image\n"
   ]
  },
  {
   "cell_type": "code",
   "execution_count": 18,
   "metadata": {},
   "outputs": [],
   "source": [
    "#Full va a representar al dataset con ingenieria de features aplicadas en el tp1_exploration.ipynb\n",
    "full = pd.read_csv(\"./heart_features.csv\", index_col=0)\n",
    "\n",
    "\n",
    "#Realizamos division en Train y Test del dataset y a su vez el split en x e y de los mismos.\n",
    "x = full.drop(['target'], axis = 1)\n",
    "y = full.target.values\n",
    "x_train, x_test, y_train, y_test = train_test_split(x, y, test_size = 0.2, random_state=5)\n"
   ]
  },
  {
   "cell_type": "markdown",
   "metadata": {},
   "source": [
    "<h1 align=\"center\">Representacion de Modelos:<h1>"
   ]
  },
  {
   "cell_type": "markdown",
   "metadata": {},
   "source": [
    "<h1>Regresión Logistica</h1>"
   ]
  },
  {
   "cell_type": "code",
   "execution_count": 3,
   "metadata": {},
   "outputs": [
    {
     "name": "stderr",
     "output_type": "stream",
     "text": [
      "/home/malta/.venv/lib/python3.6/site-packages/sklearn/linear_model/logistic.py:433: FutureWarning: Default solver will be changed to 'lbfgs' in 0.22. Specify a solver to silence this warning.\n",
      "  FutureWarning)\n"
     ]
    }
   ],
   "source": [
    "classifier_LR = LogisticRegression(random_state=4)\n",
    "classifier_LR.fit(x_train,y_train)\n",
    "\n",
    "#Prediccion en Train\n",
    "pred_LR = classifier_LR.predict(x_train)\n",
    "accuracyTrain_LR = accuracy_score(y_train, pred_LR)\n",
    "\n",
    "#Prediccion en Test\n",
    "pred_LR = classifier_LR.predict(x_test)\n",
    "confusionMatrix_LR = confusion_matrix(y_test, pred_LR)\n",
    "accuracyTest_LR = accuracy_score(y_test, pred_LR)\n"
   ]
  },
  {
   "cell_type": "code",
   "execution_count": 4,
   "metadata": {},
   "outputs": [
    {
     "name": "stdout",
     "output_type": "stream",
     "text": [
      "\u001b[1m\u001b[4mAccuracy\u001b[0m\n",
      "Train:  0.8898305084745762\n",
      "Test:  0.8166666666666667\n"
     ]
    },
    {
     "data": {
      "text/plain": [
       "<matplotlib.axes._subplots.AxesSubplot at 0x7efcc225f780>"
      ]
     },
     "execution_count": 4,
     "metadata": {},
     "output_type": "execute_result"
    },
    {
     "data": {
      "image/png": "[encoded data removed]",
      "text/plain": [
       "<Figure size 432x288 with 1 Axes>"
      ]
     },
     "metadata": {
      "needs_background": "light"
     },
     "output_type": "display_data"
    }
   ],
   "source": [
    "print('\\033[1m''\\033[4m' + 'Accuracy' + '\\033[0m')\n",
    "print('Train: ',accuracyTrain_LR)\n",
    "print('Test: ',accuracyTest_LR)\n",
    "\n",
    "#plt.subplot(2,3,1) tamaño\n",
    "plt.title(\"Matriz de confusion regresion logistica\")\n",
    "sns.heatmap(confusionMatrix_LR ,annot=True,cmap=\"Blues\",fmt=\"d\",cbar=False)"
   ]
  },
  {
   "cell_type": "markdown",
   "metadata": {},
   "source": [
    "<h1> Random Forest </h1>"
   ]
  },
  {
   "cell_type": "code",
   "execution_count": 5,
   "metadata": {},
   "outputs": [
    {
     "name": "stdout",
     "output_type": "stream",
     "text": [
      "\u001b[1m\u001b[4mAccuracy\u001b[0m\n",
      "Train:  0.9703389830508474\n",
      "Test:  0.85\n"
     ]
    },
    {
     "data": {
      "text/plain": [
       "<matplotlib.axes._subplots.AxesSubplot at 0x7efcc015b3c8>"
      ]
     },
     "execution_count": 5,
     "metadata": {},
     "output_type": "execute_result"
    },
    {
     "data": {
      "image/png": "[encoded data removed]",
      "text/plain": [
       "<Figure size 432x288 with 1 Axes>"
      ]
     },
     "metadata": {
      "needs_background": "light"
     },
     "output_type": "display_data"
    }
   ],
   "source": [
    "classifier_RDF = RandomForestClassifier(n_estimators=7,criterion='entropy',random_state=4)\n",
    "classifier_RDF.fit(x_train,y_train)\n",
    "\n",
    "#Predicción en Train\n",
    "pred_RDF = classifier_RDF.predict(x_train)\n",
    "accuracyTrain_RDF=accuracy_score(pred_RDF,y_train)\n",
    "\n",
    "#Predicción en Test\n",
    "pred_RDF = classifier_RDF.predict(x_test)\n",
    "confusionMatrix_RDF = confusion_matrix(y_test,pred_RDF)\n",
    "accuracyTest_RDF = accuracy_score(pred_RDF,y_test)\n",
    "\n",
    "print('\\033[1m''\\033[4m' + 'Accuracy' + '\\033[0m')\n",
    "print('Train: ',accuracyTrain_RDF)\n",
    "print('Test: ',accuracyTest_RDF)\n",
    "plt.title(\"Matriz de confusion random forest\")\n",
    "sns.heatmap(confusionMatrix_RDF ,annot=True,cmap=\"Blues\",fmt=\"d\",cbar=False)"
   ]
  },
  {
   "cell_type": "markdown",
   "metadata": {},
   "source": [
    "<h1>DecisionTree Classifier</h1>"
   ]
  },
  {
   "cell_type": "code",
   "execution_count": 6,
   "metadata": {},
   "outputs": [
    {
     "name": "stdout",
     "output_type": "stream",
     "text": [
      "\u001b[1m\u001b[4mAccuracy\u001b[0m\n",
      "Train:  0.940677966101695\n",
      "Test:  0.7333333333333333\n"
     ]
    },
    {
     "data": {
      "text/plain": [
       "<matplotlib.axes._subplots.AxesSubplot at 0x7efcc011c9e8>"
      ]
     },
     "execution_count": 6,
     "metadata": {},
     "output_type": "execute_result"
    },
    {
     "data": {
      "image/png": "[encoded data removed]",
      "text/plain": [
       "<Figure size 432x288 with 1 Axes>"
      ]
     },
     "metadata": {
      "needs_background": "light"
     },
     "output_type": "display_data"
    }
   ],
   "source": [
    "classifier_DTREE = DecisionTreeClassifier(criterion='entropy',random_state=0, max_depth=7,max_features='auto')\n",
    "classifier_DTREE.fit(x_train,y_train)\n",
    "\n",
    "#Predicción en Train\n",
    "pred_DTREE = classifier_DTREE.predict(x_train)\n",
    "accuracyTrain_DTREE = accuracy_score(pred_DTREE,y_train)\n",
    "\n",
    "#Predicción en Test\n",
    "pred_DTREE = classifier_DTREE.predict(x_test)\n",
    "accuracyTest_DTREE = accuracy_score(pred_DTREE,y_test)\n",
    "confusionMatrix_DTREE = confusion_matrix(y_test,pred_DTREE)\n",
    "\n",
    "print('\\033[1m''\\033[4m' + 'Accuracy' + '\\033[0m')\n",
    "print('Train: ',accuracyTrain_DTREE)\n",
    "print('Test: ',accuracyTest_DTREE)\n",
    "\n",
    "plt.title(\"Matriz de confusion Arboles decisión\")\n",
    "sns.heatmap(confusionMatrix_RDF ,annot=True,cmap=\"Blues\",fmt=\"d\",cbar=False)"
   ]
  },
  {
   "cell_type": "markdown",
   "metadata": {},
   "source": [
    "<h1> KNN </h1>"
   ]
  },
  {
   "cell_type": "code",
   "execution_count": 7,
   "metadata": {},
   "outputs": [
    {
     "name": "stdout",
     "output_type": "stream",
     "text": [
      "\u001b[1m\u001b[4mAccuracy\u001b[0m\n",
      "Train:  0.7203389830508474\n",
      "Test:  0.6666666666666666\n"
     ]
    },
    {
     "data": {
      "image/png": "[encoded data removed]",
      "text/plain": [
       "<Figure size 432x288 with 1 Axes>"
      ]
     },
     "metadata": {
      "needs_background": "light"
     },
     "output_type": "display_data"
    },
    {
     "data": {
      "text/plain": [
       "<matplotlib.axes._subplots.AxesSubplot at 0x7efcc0049518>"
      ]
     },
     "execution_count": 7,
     "metadata": {},
     "output_type": "execute_result"
    },
    {
     "data": {
      "image/png": "[encoded data removed]",
      "text/plain": [
       "<Figure size 432x288 with 1 Axes>"
      ]
     },
     "metadata": {
      "needs_background": "light"
     },
     "output_type": "display_data"
    }
   ],
   "source": [
    "classifier_KNN = KNeighborsClassifier(algorithm='auto', leaf_size=30, metric='minkowski',\n",
    "           metric_params=None, n_jobs=1, n_neighbors=8, p=2,\n",
    "           weights='uniform')\n",
    "classifier_KNN.fit(x_train,y_train)\n",
    "\n",
    "#Predicción en Train\n",
    "pred_KNN = classifier_KNN.predict(x_train)\n",
    "accuracyTrain_KNN = accuracy_score(pred_KNN,y_train)\n",
    "\n",
    "#Predicción en Test\n",
    "pred_KNN = classifier_KNN.predict(x_test)\n",
    "accuracyTest_KNN = accuracy_score(pred_KNN,y_test)\n",
    "confusionMatrix_KNN = confusion_matrix(y_test,pred_KNN)\n",
    "\n",
    "print('\\033[1m''\\033[4m' + 'Accuracy' + '\\033[0m')\n",
    "print('Train: ',accuracyTrain_KNN)\n",
    "print('Test: ',accuracyTest_KNN)\n",
    "\n",
    "\n",
    "# Create color maps\n",
    "cmap_light = ListedColormap(['#FFAAAA', '#AAFFAA','#00AAFF'])\n",
    "cmap_bold = ListedColormap(['#FF0000', '#00FF00','#00AAFF'])\n",
    "\n",
    "h = 10  # step size in the mesh\n",
    "\n",
    "# calculate min, max and limits\n",
    "\n",
    "x_min, x_max = x.iloc[:, 0].min() , x.iloc[:, 0].max() \n",
    "y_min, y_max = x.iloc[:, 1].min()  , x.iloc[:, 1].max() +1 \n",
    "xx, yy = np.meshgrid(np.arange(x_min, x_max, h),\n",
    "np.arange(y_min, y_max, h))\n",
    "\n",
    "\n",
    "# predict class using data and kNN classifier\n",
    "Z = classifier_KNN.predict(x_test)\n",
    "\n",
    "# Put the result into a color plot\n",
    "\n",
    "Z = Z.reshape(x_test.shape[0])\n",
    "plt.figure()\n",
    "\n",
    "plt.pcolormesh(x_test, cmap=cmap_light)\n",
    "\n",
    "# Plot also the training points\n",
    "plt.scatter(x.iloc[:, 0], x.iloc[:, 1], c=y, cmap=cmap_bold)\n",
    "plt.xlim(xx.min(), xx.max())\n",
    "plt.ylim(yy.min(), yy.max())\n",
    "plt.title(\"3-Class classification (k = %i)\" % (8))\n",
    "plt.show()\n",
    "\n",
    "plt.title(\"Matriz de confusion Knn Neighbors\")\n",
    "sns.heatmap(confusionMatrix_RDF ,annot=True,cmap=\"Blues\",fmt=\"d\",cbar=False)\n",
    "\n"
   ]
  },
  {
   "cell_type": "code",
   "execution_count": 8,
   "metadata": {},
   "outputs": [
    {
     "name": "stdout",
     "output_type": "stream",
     "text": [
      "WARNING:tensorflow:From /home/malta/.venv/lib/python3.6/site-packages/tensorflow/python/framework/op_def_library.py:263: colocate_with (from tensorflow.python.framework.ops) is deprecated and will be removed in a future version.\n",
      "Instructions for updating:\n",
      "Colocations handled automatically by placer.\n",
      "WARNING:tensorflow:From /home/malta/.venv/lib/python3.6/site-packages/keras/backend/tensorflow_backend.py:3445: calling dropout (from tensorflow.python.ops.nn_ops) with keep_prob is deprecated and will be removed in a future version.\n",
      "Instructions for updating:\n",
      "Please use `rate` instead of `keep_prob`. Rate should be set to `rate = 1 - keep_prob`.\n"
     ]
    }
   ],
   "source": [
    "model = Sequential()\n",
    "model.add(Dense(50, input_dim=19, activation='tanh'))\n",
    "model.add(Dropout(0.1))\n",
    "model.add(Dense(50, activation='tanh'))\n",
    "model.add(Dropout(0.1))\n",
    "model.add(Dense(1, activation='sigmoid'))"
   ]
  },
  {
   "cell_type": "code",
   "execution_count": 9,
   "metadata": {},
   "outputs": [],
   "source": [
    "model.compile(loss='binary_crossentropy', optimizer='adam', metrics=['accuracy'])"
   ]
  },
  {
   "cell_type": "code",
   "execution_count": 20,
   "metadata": {
    "scrolled": false
   },
   "outputs": [
    {
     "name": "stdout",
     "output_type": "stream",
     "text": [
      "Train on 165 samples, validate on 71 samples\n",
      "Epoch 1/1\n",
      "165/165 [==============================] - 0s 32us/step - loss: 0.3513 - acc: 0.8485 - val_loss: 0.4598 - val_acc: 0.8169\n"
     ]
    }
   ],
   "source": [
    "output = model.fit(x_train, y_train,validation_split=0.3, epochs=1, batch_size=128)"
   ]
  },
  {
   "cell_type": "code",
   "execution_count": 11,
   "metadata": {},
   "outputs": [
    {
     "data": {
      "image/png": "[encoded data removed]",
      "text/plain": [
       "<Figure size 432x288 with 1 Axes>"
      ]
     },
     "metadata": {
      "needs_background": "light"
     },
     "output_type": "display_data"
    }
   ],
   "source": [
    "plt.plot(output.history['acc'])\n",
    "plt.plot(output.history['val_acc'])\n",
    "plt.title('model accuracy')\n",
    "plt.ylabel('accuracy')\n",
    "plt.xlabel('epoch')\n",
    "plt.legend(['train', 'test'], loc='upper left')\n",
    "plt.show()"
   ]
  },
  {
   "cell_type": "code",
   "execution_count": 30,
   "metadata": {},
   "outputs": [
    {
     "data": {
      "text/html": [
       "<div>\n",
       "<style scoped>\n",
       "    .dataframe tbody tr th:only-of-type {\n",
       "        vertical-align: middle;\n",
       "    }\n",
       "\n",
       "    .dataframe tbody tr th {\n",
       "        vertical-align: top;\n",
       "    }\n",
       "\n",
       "    .dataframe thead th {\n",
       "        text-align: right;\n",
       "    }\n",
       "</style>\n",
       "<table border=\"1\" class=\"dataframe\">\n",
       "  <thead>\n",
       "    <tr style=\"text-align: right;\">\n",
       "      <th></th>\n",
       "      <th>age</th>\n",
       "      <th>blood_pressure</th>\n",
       "      <th>cholesterol</th>\n",
       "      <th>blood_sugar</th>\n",
       "      <th>result_ecg</th>\n",
       "      <th>max_heart_rate</th>\n",
       "      <th>exercise_angina</th>\n",
       "      <th>st_depression</th>\n",
       "      <th>st_slope</th>\n",
       "      <th>c_major_vessels</th>\n",
       "      <th>target</th>\n",
       "      <th>sex_female</th>\n",
       "      <th>sex_male</th>\n",
       "      <th>chest_pain_asymptomatic</th>\n",
       "      <th>chest_pain_atypical_angina</th>\n",
       "      <th>chest_pain_non_anginal_pain</th>\n",
       "      <th>chest_pain_typical_angina</th>\n",
       "      <th>thalassemia_fixed_defect</th>\n",
       "      <th>thalassemia_normal</th>\n",
       "      <th>thalassemia_reversable_defect</th>\n",
       "    </tr>\n",
       "  </thead>\n",
       "  <tbody>\n",
       "    <tr>\n",
       "      <th>0</th>\n",
       "      <td>63</td>\n",
       "      <td>145</td>\n",
       "      <td>233</td>\n",
       "      <td>1</td>\n",
       "      <td>0</td>\n",
       "      <td>150</td>\n",
       "      <td>0</td>\n",
       "      <td>2.3</td>\n",
       "      <td>0</td>\n",
       "      <td>0</td>\n",
       "      <td>1</td>\n",
       "      <td>0</td>\n",
       "      <td>1</td>\n",
       "      <td>0</td>\n",
       "      <td>0</td>\n",
       "      <td>0</td>\n",
       "      <td>1</td>\n",
       "      <td>0</td>\n",
       "      <td>1</td>\n",
       "      <td>0</td>\n",
       "    </tr>\n",
       "    <tr>\n",
       "      <th>1</th>\n",
       "      <td>37</td>\n",
       "      <td>130</td>\n",
       "      <td>250</td>\n",
       "      <td>0</td>\n",
       "      <td>1</td>\n",
       "      <td>187</td>\n",
       "      <td>0</td>\n",
       "      <td>3.5</td>\n",
       "      <td>0</td>\n",
       "      <td>0</td>\n",
       "      <td>1</td>\n",
       "      <td>0</td>\n",
       "      <td>1</td>\n",
       "      <td>0</td>\n",
       "      <td>1</td>\n",
       "      <td>0</td>\n",
       "      <td>0</td>\n",
       "      <td>1</td>\n",
       "      <td>0</td>\n",
       "      <td>0</td>\n",
       "    </tr>\n",
       "    <tr>\n",
       "      <th>2</th>\n",
       "      <td>41</td>\n",
       "      <td>130</td>\n",
       "      <td>204</td>\n",
       "      <td>0</td>\n",
       "      <td>0</td>\n",
       "      <td>172</td>\n",
       "      <td>0</td>\n",
       "      <td>1.4</td>\n",
       "      <td>2</td>\n",
       "      <td>0</td>\n",
       "      <td>1</td>\n",
       "      <td>1</td>\n",
       "      <td>0</td>\n",
       "      <td>0</td>\n",
       "      <td>0</td>\n",
       "      <td>1</td>\n",
       "      <td>0</td>\n",
       "      <td>1</td>\n",
       "      <td>0</td>\n",
       "      <td>0</td>\n",
       "    </tr>\n",
       "    <tr>\n",
       "      <th>3</th>\n",
       "      <td>56</td>\n",
       "      <td>120</td>\n",
       "      <td>236</td>\n",
       "      <td>0</td>\n",
       "      <td>1</td>\n",
       "      <td>178</td>\n",
       "      <td>0</td>\n",
       "      <td>0.8</td>\n",
       "      <td>2</td>\n",
       "      <td>0</td>\n",
       "      <td>1</td>\n",
       "      <td>0</td>\n",
       "      <td>1</td>\n",
       "      <td>0</td>\n",
       "      <td>0</td>\n",
       "      <td>1</td>\n",
       "      <td>0</td>\n",
       "      <td>1</td>\n",
       "      <td>0</td>\n",
       "      <td>0</td>\n",
       "    </tr>\n",
       "    <tr>\n",
       "      <th>4</th>\n",
       "      <td>57</td>\n",
       "      <td>120</td>\n",
       "      <td>354</td>\n",
       "      <td>0</td>\n",
       "      <td>1</td>\n",
       "      <td>163</td>\n",
       "      <td>1</td>\n",
       "      <td>0.6</td>\n",
       "      <td>2</td>\n",
       "      <td>0</td>\n",
       "      <td>1</td>\n",
       "      <td>1</td>\n",
       "      <td>0</td>\n",
       "      <td>1</td>\n",
       "      <td>0</td>\n",
       "      <td>0</td>\n",
       "      <td>0</td>\n",
       "      <td>1</td>\n",
       "      <td>0</td>\n",
       "      <td>0</td>\n",
       "    </tr>\n",
       "  </tbody>\n",
       "</table>\n",
       "</div>"
      ],
      "text/plain": [
       "   age  blood_pressure  cholesterol  blood_sugar  result_ecg  max_heart_rate  \\\n",
       "0   63             145          233            1           0             150   \n",
       "1   37             130          250            0           1             187   \n",
       "2   41             130          204            0           0             172   \n",
       "3   56             120          236            0           1             178   \n",
       "4   57             120          354            0           1             163   \n",
       "\n",
       "   exercise_angina  st_depression  st_slope  c_major_vessels  target  \\\n",
       "0                0            2.3         0                0       1   \n",
       "1                0            3.5         0                0       1   \n",
       "2                0            1.4         2                0       1   \n",
       "3                0            0.8         2                0       1   \n",
       "4                1            0.6         2                0       1   \n",
       "\n",
       "   sex_female  sex_male  chest_pain_asymptomatic  chest_pain_atypical_angina  \\\n",
       "0           0         1                        0                           0   \n",
       "1           0         1                        0                           1   \n",
       "2           1         0                        0                           0   \n",
       "3           0         1                        0                           0   \n",
       "4           1         0                        1                           0   \n",
       "\n",
       "   chest_pain_non_anginal_pain  chest_pain_typical_angina  \\\n",
       "0                            0                          1   \n",
       "1                            0                          0   \n",
       "2                            1                          0   \n",
       "3                            1                          0   \n",
       "4                            0                          0   \n",
       "\n",
       "   thalassemia_fixed_defect  thalassemia_normal  thalassemia_reversable_defect  \n",
       "0                         0                   1                              0  \n",
       "1                         1                   0                              0  \n",
       "2                         1                   0                              0  \n",
       "3                         1                   0                              0  \n",
       "4                         1                   0                              0  "
      ]
     },
     "execution_count": 30,
     "metadata": {},
     "output_type": "execute_result"
    }
   ],
   "source": [
    "#Dataset sin ingenieria de features\n",
    "full_wf = pd.read_csv(\"./heart.csv\")\n",
    "\n",
    "x_wf = full.drop(['target'], axis = 1)\n",
    "y_wf = full.target.values\n",
    "X_train, X_test, Y_train, Y_test = train_test_split(x_wf, y_wf, test_size = 0.2, random_state=5)\n",
    "\n"
   ]
  },
  {
   "cell_type": "code",
   "execution_count": 26,
   "metadata": {},
   "outputs": [
    {
     "name": "stderr",
     "output_type": "stream",
     "text": [
      "/home/malta/.venv/lib/python3.6/site-packages/sklearn/linear_model/logistic.py:433: FutureWarning: Default solver will be changed to 'lbfgs' in 0.22. Specify a solver to silence this warning.\n",
      "  FutureWarning)\n"
     ]
    },
    {
     "name": "stdout",
     "output_type": "stream",
     "text": [
      "Train on 165 samples, validate on 71 samples\n",
      "Epoch 1/1\n",
      "165/165 [==============================] - 0s 2ms/step - loss: 0.8542 - acc: 0.5273 - val_loss: 0.6723 - val_acc: 0.6338\n"
     ]
    }
   ],
   "source": [
    "#LOGISTIC REGRESSION\n",
    "classifierWF_LR = LogisticRegression(random_state=4)\n",
    "classifierWF_LR.fit(X_train,Y_train)\n",
    "\n",
    "#Prediccion en Train\n",
    "predWF_LR = classifierWF_LR.predict(X_train)\n",
    "accuracyTrainWF_LR = accuracy_score(Y_train, predWF_LR)\n",
    "\n",
    "#Prediccion en Test\n",
    "predWF_LR = classifierWF_LR.predict(X_test)\n",
    "accuracyTestWF_LR = accuracy_score(Y_test, predWF_LR)\n",
    "\n",
    "\n",
    "#RANDOM FOREST\n",
    "classifierWF_RDF = RandomForestClassifier(n_estimators=7,criterion='entropy',random_state=4)\n",
    "classifierWF_RDF.fit(X_train,Y_train)\n",
    "\n",
    "#Predicción en Train\n",
    "predWF_RDF = classifierWF_RDF.predict(X_train)\n",
    "accuracyTrainWF_RDF=accuracy_score(predWF_RDF,Y_train)\n",
    "\n",
    "#Predicción en Test\n",
    "predWF_RDF = classifierWF_RDF.predict(X_test)\n",
    "accuracyTestWF_RDF = accuracy_score(predWF_RDF,Y_test)\n",
    "\n",
    "#KNN NEIGHBORS\n",
    "classifierWF_KNN = KNeighborsClassifier(algorithm='auto', leaf_size=30, metric='minkowski',\n",
    "           metric_params=None, n_jobs=1, n_neighbors=8, p=2,\n",
    "           weights='uniform')\n",
    "classifierWF_KNN.fit(X_train,Y_train)\n",
    "\n",
    "#Predicción en Train\n",
    "predWF_KNN = classifierWF_KNN.predict(X_train)\n",
    "accuracyTrainWF_KNN = accuracy_score(predWF_KNN,Y_train)\n",
    "\n",
    "#Predicción en Test\n",
    "predWF_KNN = classifierWF_KNN.predict(X_test)\n",
    "accuracyTestWF_KNN = accuracy_score(predWF_KNN,Y_test)\n",
    "\n",
    "#REDES NEURONALES\n",
    "modelWF = Sequential()\n",
    "modelWF.add(Dense(50, input_dim=19, activation='tanh'))\n",
    "modelWF.add(Dropout(0.1))\n",
    "modelWF.add(Dense(50, activation='tanh'))\n",
    "modelWF.add(Dropout(0.1))\n",
    "modelWF.add(Dense(1, activation='sigmoid'))\n",
    "\n",
    "modelWF.compile(loss='binary_crossentropy', optimizer='adam', metrics=['accuracy'])\n",
    "\n",
    "outputWF = modelWF.fit(X_train, Y_train,validation_split=0.3, epochs=1, batch_size=128)"
   ]
  },
  {
   "cell_type": "code",
   "execution_count": 31,
   "metadata": {},
   "outputs": [
    {
     "name": "stdout",
     "output_type": "stream",
     "text": [
      "Accuracy Logistic Regression:  0.8166666666666667\n",
      "Accuracy Random Forest:  0.85\n",
      "Accuracy KNN:  0.6666666666666666\n",
      "\n",
      "Accuracy Logistic Regression:  0.8166666666666667\n",
      "Accuracy Random Forest:  0.85\n",
      "Accuracy Logistic Regression:  0.6666666666666666\n"
     ]
    }
   ],
   "source": [
    "\n",
    "print('Accuracy Logistic Regression: ',accuracyTest_LR)\n",
    "print('Accuracy Random Forest: ',accuracyTest_RDF)\n",
    "print('Accuracy KNN: ',accuracyTest_KNN)\n",
    "\n",
    "print(\"\")\n",
    "print('Accuracy Logistic Regression: ',accuracyTestWF_LR)\n",
    "print('Accuracy Random Forest: ',accuracyTestWF_RDF)\n",
    "print('Accuracy Logistic Regression: ',accuracyTestWF_KNN)"
   ]
  },
  {
   "cell_type": "code",
   "execution_count": null,
   "metadata": {},
   "outputs": [],
   "source": []
  }
 ],
 "metadata": {
  "kernelspec": {
   "display_name": ".venv",
   "language": "python",
   "name": ".venv"
  },
  "language_info": {
   "codemirror_mode": {
    "name": "ipython",
    "version": 3
   },
   "file_extension": ".py",
   "mimetype": "text/x-python",
   "name": "python",
   "nbconvert_exporter": "python",
   "pygments_lexer": "ipython3",
   "version": "3.6.7"
  }
 },
 "nbformat": 4,
 "nbformat_minor": 2
}
